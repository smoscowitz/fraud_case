{
 "cells": [
  {
   "cell_type": "markdown",
   "metadata": {},
   "source": [
    "# Auto Fraud Dataset Challenge"
   ]
  },
  {
   "cell_type": "markdown",
   "metadata": {},
   "source": [
    "### This project involves reading in data related to Insurance Fraud in the Auto sector, preprocessing the data, and then running a variety of predictive models to see which is able to correctly classify a claim as either fraudulent or legitimate (1 for fraud, 0 for legitimate)"
   ]
  },
  {
   "cell_type": "code",
   "execution_count": 1,
   "metadata": {
    "collapsed": true
   },
   "outputs": [],
   "source": [
    "import numpy as np\n",
    "import pandas as pd\n",
    "import matplotlib.pyplot as plt\n",
    "import seaborn as sns\n",
    "import statistics as st\n",
    "%matplotlib inline\n",
    "import plotly.plotly as py\n",
    "import plotly.graph_objs as go"
   ]
  },
  {
   "cell_type": "markdown",
   "metadata": {},
   "source": [
    "Code to connect to my plotly account so that graphs can be made using this package"
   ]
  },
  {
   "cell_type": "code",
   "execution_count": 2,
   "metadata": {
    "collapsed": true
   },
   "outputs": [],
   "source": [
    "import plotly\n",
    "plotly.tools.set_credentials_file(username='sdowney1', api_key='PC2qXy2yuYoEwvACH4Fr')"
   ]
  },
  {
   "cell_type": "markdown",
   "metadata": {},
   "source": [
    "Reading in the training and testing data and seeing which columns in the training data have missing values"
   ]
  },
  {
   "cell_type": "code",
   "execution_count": 3,
   "metadata": {},
   "outputs": [
    {
     "data": {
      "text/plain": [
       "State_Code                        0\n",
       "State                             0\n",
       "Claim_Amount                      0\n",
       "Education                        11\n",
       "Claim_Date                        0\n",
       "Employment_Status                 0\n",
       "Gender                            0\n",
       "Income                            0\n",
       "Location                          3\n",
       "Marital_Status                    0\n",
       "Monthly_Premium                   0\n",
       "Annual_Premium                    0\n",
       "Months_Since_Last_Claim           0\n",
       "Months_Since_Policy_Inception     0\n",
       "Claim_Cause                       0\n",
       "Claim_Report_Type                 0\n",
       "Vehicle_Class                     0\n",
       "Vehicle_Size                      0\n",
       "Vehicle_Model                     0\n",
       "Outstanding_Balance               9\n",
       "Fraudulent_Claim                  0\n",
       "Claimant__Number                  0\n",
       "dtype: int64"
      ]
     },
     "execution_count": 3,
     "metadata": {},
     "output_type": "execute_result"
    }
   ],
   "source": [
    "fraud=pd.read_csv('claim_data_train.csv')\n",
    "fraud_test=pd.read_csv('Claim_Score_Dataset.csv')\n",
    "fraud.isnull().sum()"
   ]
  },
  {
   "cell_type": "markdown",
   "metadata": {},
   "source": [
    "This bar graph shows the number of claims by individual State."
   ]
  },
  {
   "cell_type": "code",
   "execution_count": 4,
   "metadata": {},
   "outputs": [
    {
     "data": {
      "image/png": "[encoded data removed]",
      "text/plain": [
       "<matplotlib.figure.Figure at 0x1a0d5adf28>"
      ]
     },
     "metadata": {},
     "output_type": "display_data"
    }
   ],
   "source": [
    "ax = fraud['State_Code'].value_counts().plot(kind='bar',\n",
    "                                         figsize = (14,8),\n",
    "                                         title = \"Claims by State\")\n",
    "ax.set_xlabel(\"States\")\n",
    "ax.set_ylabel(\"Frequency\")\n",
    "plt.show()"
   ]
  },
  {
   "cell_type": "markdown",
   "metadata": {},
   "source": [
    "This bar chart shows the distribution of how claims are reported"
   ]
  },
  {
   "cell_type": "code",
   "execution_count": 5,
   "metadata": {},
   "outputs": [
    {
     "data": {
      "image/png": "[encoded data removed]",
      "text/plain": [
       "<matplotlib.figure.Figure at 0x1a0d5eb710>"
      ]
     },
     "metadata": {},
     "output_type": "display_data"
    }
   ],
   "source": [
    "ax = fraud['Claim_Report_Type'].value_counts().plot(kind='bar',\n",
    "                                         figsize = (14,8),\n",
    "                                         title = \"Claims by Claim Type\")\n",
    "ax.set_xlabel(\"Claim Type\")\n",
    "ax.set_ylabel(\"Frequency\")\n",
    "plt.show()"
   ]
  },
  {
   "cell_type": "markdown",
   "metadata": {},
   "source": [
    "This double histogram shows the distributions of the Months Since Policy Inception and Months Since Last Claim variables"
   ]
  },
  {
   "cell_type": "code",
   "execution_count": 6,
   "metadata": {},
   "outputs": [
    {
     "data": {
      "text/html": [
       "<iframe id=\"igraph\" scrolling=\"no\" style=\"border:none;\" seamless=\"seamless\" src=\"https://plot.ly/~sdowney1/14.embed\" height=\"525px\" width=\"100%\"></iframe>"
      ],
      "text/plain": [
       "<plotly.tools.PlotlyDisplay object>"
      ]
     },
     "execution_count": 6,
     "metadata": {},
     "output_type": "execute_result"
    }
   ],
   "source": [
    "trace0 = go.Histogram(\n",
    "    x = fraud.Months_Since_Policy_Inception, name='Months Since Policy Inception'\n",
    ")\n",
    "\n",
    "trace1 = go.Histogram(\n",
    "    x = fraud.Months_Since_Last_Claim, name='Months Since Last Claim'\n",
    ")\n",
    "\n",
    "data = [trace0, trace1]\n",
    "layout = go.Layout(barmode = \"stack\")\n",
    "fig = go.Figure (data=data,layout=layout)\n",
    "py.iplot(fig, filename = 'stacked hist')"
   ]
  },
  {
   "cell_type": "markdown",
   "metadata": {},
   "source": [
    "This histogram on the Claim Amount data shows that the variable is skewed, which means it needs to be transformed"
   ]
  },
  {
   "cell_type": "code",
   "execution_count": 7,
   "metadata": {},
   "outputs": [
    {
     "data": {
      "text/html": [
       "<iframe id=\"igraph\" scrolling=\"no\" style=\"border:none;\" seamless=\"seamless\" src=\"https://plot.ly/~sdowney1/16.embed\" height=\"525px\" width=\"100%\"></iframe>"
      ],
      "text/plain": [
       "<plotly.tools.PlotlyDisplay object>"
      ]
     },
     "execution_count": 7,
     "metadata": {},
     "output_type": "execute_result"
    }
   ],
   "source": [
    "data = [go.Histogram(x=fraud.Claim_Amount)]\n",
    "py.iplot(data, filename = 'Claim Amount Histogram')"
   ]
  },
  {
   "cell_type": "markdown",
   "metadata": {},
   "source": [
    "This histogram of revenue shows that it is a very skewed variable, so it will need to either be transformed or binned"
   ]
  },
  {
   "cell_type": "code",
   "execution_count": 8,
   "metadata": {},
   "outputs": [
    {
     "data": {
      "text/html": [
       "<iframe id=\"igraph\" scrolling=\"no\" style=\"border:none;\" seamless=\"seamless\" src=\"https://plot.ly/~sdowney1/24.embed\" height=\"525px\" width=\"100%\"></iframe>"
      ],
      "text/plain": [
       "<plotly.tools.PlotlyDisplay object>"
      ]
     },
     "execution_count": 8,
     "metadata": {},
     "output_type": "execute_result"
    }
   ],
   "source": [
    "data = [go.Histogram(x=(fraud.Income))]\n",
    "py.iplot(data, filename = \"Income\")"
   ]
  },
  {
   "cell_type": "markdown",
   "metadata": {},
   "source": [
    "These next histograms check the distibutions of the remaining numeric variables that we are not binning into categorical variables. None of them are skewed, so they will not be transformed."
   ]
  },
  {
   "cell_type": "code",
   "execution_count": 9,
   "metadata": {},
   "outputs": [
    {
     "data": {
      "text/html": [
       "<iframe id=\"igraph\" scrolling=\"no\" style=\"border:none;\" seamless=\"seamless\" src=\"https://plot.ly/~sdowney1/18.embed\" height=\"525px\" width=\"100%\"></iframe>"
      ],
      "text/plain": [
       "<plotly.tools.PlotlyDisplay object>"
      ]
     },
     "execution_count": 9,
     "metadata": {},
     "output_type": "execute_result"
    }
   ],
   "source": [
    "data = [go.Histogram(x=fraud.Monthly_Premium)]\n",
    "py.iplot(data, filename = \"Monthly Premium Histogram\")"
   ]
  },
  {
   "cell_type": "code",
   "execution_count": 10,
   "metadata": {},
   "outputs": [
    {
     "data": {
      "text/html": [
       "<iframe id=\"igraph\" scrolling=\"no\" style=\"border:none;\" seamless=\"seamless\" src=\"https://plot.ly/~sdowney1/20.embed\" height=\"525px\" width=\"100%\"></iframe>"
      ],
      "text/plain": [
       "<plotly.tools.PlotlyDisplay object>"
      ]
     },
     "execution_count": 10,
     "metadata": {},
     "output_type": "execute_result"
    }
   ],
   "source": [
    "data = [go.Histogram(x=fraud.Annual_Premium)]\n",
    "py.iplot(data, filename = \"Annual Premium Histogram\")"
   ]
  },
  {
   "cell_type": "code",
   "execution_count": 11,
   "metadata": {},
   "outputs": [
    {
     "data": {
      "text/html": [
       "<iframe id=\"igraph\" scrolling=\"no\" style=\"border:none;\" seamless=\"seamless\" src=\"https://plot.ly/~sdowney1/22.embed\" height=\"525px\" width=\"100%\"></iframe>"
      ],
      "text/plain": [
       "<plotly.tools.PlotlyDisplay object>"
      ]
     },
     "execution_count": 11,
     "metadata": {},
     "output_type": "execute_result"
    }
   ],
   "source": [
    "data = [go.Histogram(x=fraud.Outstanding_Balance)]\n",
    "py.iplot(data, filename = \"Outstanding Balance\")"
   ]
  },
  {
   "cell_type": "markdown",
   "metadata": {},
   "source": [
    "Function to fill missing values in the Outstanding Balance variable with 0s, as we assumed that a missing value meant that the car was paid off."
   ]
  },
  {
   "cell_type": "code",
   "execution_count": 12,
   "metadata": {
    "collapsed": true
   },
   "outputs": [],
   "source": [
    "def simplify_balance(df):\n",
    "    df.Outstanding_Balance=df.Outstanding_Balance.fillna(0)\n",
    "    return df"
   ]
  },
  {
   "cell_type": "markdown",
   "metadata": {},
   "source": [
    "Function to fill missing values in the Location variable with the mode of the column"
   ]
  },
  {
   "cell_type": "code",
   "execution_count": 13,
   "metadata": {
    "collapsed": true
   },
   "outputs": [],
   "source": [
    "def simplify_location(df):\n",
    "    mode=st.mode(df.Location)\n",
    "    df.Location=df.Location.fillna(mode)\n",
    "    return df"
   ]
  },
  {
   "cell_type": "markdown",
   "metadata": {},
   "source": [
    "Function to bin the Months Since Policy Inception Variable"
   ]
  },
  {
   "cell_type": "code",
   "execution_count": 14,
   "metadata": {
    "collapsed": true
   },
   "outputs": [],
   "source": [
    "def simplify_inception(df):\n",
    "    bins=(-1,2,6,12,24,1000)\n",
    "    group_names=[\"1. New Customer\",\"2. 6 Months\",\"3. 1 year\",\"4. 2 years\",\"5. Long-Term Customer\"]\n",
    "    categories=pd.cut(df.Months_Since_Policy_Inception,bins,labels=group_names)\n",
    "    df.Months_Since_Policy_Inception=categories\n",
    "    return df"
   ]
  },
  {
   "cell_type": "markdown",
   "metadata": {},
   "source": [
    "Function to bin incomes into their tax brackets"
   ]
  },
  {
   "cell_type": "code",
   "execution_count": 15,
   "metadata": {
    "collapsed": true
   },
   "outputs": [],
   "source": [
    "def simplify_income(df):\n",
    "    bins = (-0.5, 10000, 30000, 50000, 70000, 16000000)\n",
    "    group_names = ['1. Poor','2. Lower-Middle','3. Middle','4. Upper-Middle','5. Upper'] \n",
    "    categories = pd.cut(df.Income, bins, labels=group_names) \n",
    "    df.Income = categories \n",
    "    return df"
   ]
  },
  {
   "cell_type": "markdown",
   "metadata": {},
   "source": [
    "Function to fill missing education values with the mode of the column, then renaming the values to make the output of the encoding process more logical."
   ]
  },
  {
   "cell_type": "code",
   "execution_count": 16,
   "metadata": {
    "collapsed": true
   },
   "outputs": [],
   "source": [
    "def simplify_education(df):\n",
    "    mode=st.mode(df.Education)\n",
    "    df.Education=df.Education.fillna(mode)\n",
    "    df.Education[df.Education == \"High School or Below\"]=\"1. High School or Below\"\n",
    "    df.Education[df.Education == \"College\"]=\"2. College\"\n",
    "    df.Education[df.Education == \"Bachelor\"]=\"3. Bachelor\"\n",
    "    df.Education[df.Education == \"Master\"]=\"4. Master\"\n",
    "    df.Education[df.Education == \"Doctorate\"]=\"5. Doctorate\"\n",
    "    \n",
    "    return(df)"
   ]
  },
  {
   "cell_type": "markdown",
   "metadata": {},
   "source": [
    "Function to transform the Claim Amount variable so that it is more normally distributed"
   ]
  },
  {
   "cell_type": "code",
   "execution_count": 17,
   "metadata": {
    "collapsed": true
   },
   "outputs": [],
   "source": [
    "def normalize_claimamt(df):\n",
    "    df.Claim_Amount=np.log(df.Claim_Amount)\n",
    "    \n",
    "    return df"
   ]
  },
  {
   "cell_type": "markdown",
   "metadata": {},
   "source": [
    "Funtion to drop any unnecessary variables. For now, we only drop the State variable because the State Code variable contains the same information. We keep all other variables because they have the potential to be significant in our models."
   ]
  },
  {
   "cell_type": "code",
   "execution_count": 18,
   "metadata": {
    "collapsed": true
   },
   "outputs": [],
   "source": [
    "def drop_vars(df):\n",
    "    return df.drop(['State'],axis=1)"
   ]
  },
  {
   "cell_type": "markdown",
   "metadata": {},
   "source": [
    "Function to run all of the previous variable transformation variables all at once"
   ]
  },
  {
   "cell_type": "code",
   "execution_count": 19,
   "metadata": {
    "collapsed": true
   },
   "outputs": [],
   "source": [
    "def transform_vars(df):\n",
    "    df=simplify_balance(df)\n",
    "    df=simplify_location(df)\n",
    "    df=simplify_inception(df)\n",
    "    df=simplify_income(df)\n",
    "    df=simplify_education(df)\n",
    "    df=normalize_claimamt(df)\n",
    "    df=drop_vars(df)\n",
    "    \n",
    "    return df"
   ]
  },
  {
   "cell_type": "markdown",
   "metadata": {},
   "source": [
    "Running the functions on the data to clean it"
   ]
  },
  {
   "cell_type": "code",
   "execution_count": 20,
   "metadata": {},
   "outputs": [
    {
     "name": "stderr",
     "output_type": "stream",
     "text": [
      "/Users/sammoscowitz/anaconda3/lib/python3.6/site-packages/ipykernel_launcher.py:4: SettingWithCopyWarning:\n",
      "\n",
      "\n",
      "A value is trying to be set on a copy of a slice from a DataFrame\n",
      "\n",
      "See the caveats in the documentation: http://pandas.pydata.org/pandas-docs/stable/indexing.html#indexing-view-versus-copy\n",
      "\n",
      "/Users/sammoscowitz/anaconda3/lib/python3.6/site-packages/ipykernel_launcher.py:5: SettingWithCopyWarning:\n",
      "\n",
      "\n",
      "A value is trying to be set on a copy of a slice from a DataFrame\n",
      "\n",
      "See the caveats in the documentation: http://pandas.pydata.org/pandas-docs/stable/indexing.html#indexing-view-versus-copy\n",
      "\n",
      "/Users/sammoscowitz/anaconda3/lib/python3.6/site-packages/ipykernel_launcher.py:6: SettingWithCopyWarning:\n",
      "\n",
      "\n",
      "A value is trying to be set on a copy of a slice from a DataFrame\n",
      "\n",
      "See the caveats in the documentation: http://pandas.pydata.org/pandas-docs/stable/indexing.html#indexing-view-versus-copy\n",
      "\n",
      "/Users/sammoscowitz/anaconda3/lib/python3.6/site-packages/ipykernel_launcher.py:7: SettingWithCopyWarning:\n",
      "\n",
      "\n",
      "A value is trying to be set on a copy of a slice from a DataFrame\n",
      "\n",
      "See the caveats in the documentation: http://pandas.pydata.org/pandas-docs/stable/indexing.html#indexing-view-versus-copy\n",
      "\n",
      "/Users/sammoscowitz/anaconda3/lib/python3.6/site-packages/ipykernel_launcher.py:8: SettingWithCopyWarning:\n",
      "\n",
      "\n",
      "A value is trying to be set on a copy of a slice from a DataFrame\n",
      "\n",
      "See the caveats in the documentation: http://pandas.pydata.org/pandas-docs/stable/indexing.html#indexing-view-versus-copy\n",
      "\n"
     ]
    },
    {
     "data": {
      "text/html": [
       "<div>\n",
       "<style>\n",
       "    .dataframe thead tr:only-child th {\n",
       "        text-align: right;\n",
       "    }\n",
       "\n",
       "    .dataframe thead th {\n",
       "        text-align: left;\n",
       "    }\n",
       "\n",
       "    .dataframe tbody tr th {\n",
       "        vertical-align: top;\n",
       "    }\n",
       "</style>\n",
       "<table border=\"1\" class=\"dataframe\">\n",
       "  <thead>\n",
       "    <tr style=\"text-align: right;\">\n",
       "      <th></th>\n",
       "      <th>State_Code</th>\n",
       "      <th>Claim_Amount</th>\n",
       "      <th>Education</th>\n",
       "      <th>Claim_Date</th>\n",
       "      <th>Employment_Status</th>\n",
       "      <th>Gender</th>\n",
       "      <th>Income</th>\n",
       "      <th>Location</th>\n",
       "      <th>Marital_Status</th>\n",
       "      <th>Monthly_Premium</th>\n",
       "      <th>...</th>\n",
       "      <th>Months_Since_Last_Claim</th>\n",
       "      <th>Months_Since_Policy_Inception</th>\n",
       "      <th>Claim_Cause</th>\n",
       "      <th>Claim_Report_Type</th>\n",
       "      <th>Vehicle_Class</th>\n",
       "      <th>Vehicle_Size</th>\n",
       "      <th>Vehicle_Model</th>\n",
       "      <th>Outstanding_Balance</th>\n",
       "      <th>Fraudulent_Claim</th>\n",
       "      <th>Claimant__Number</th>\n",
       "    </tr>\n",
       "  </thead>\n",
       "  <tbody>\n",
       "    <tr>\n",
       "      <th>0</th>\n",
       "      <td>KS</td>\n",
       "      <td>6.355343</td>\n",
       "      <td>3. Bachelor</td>\n",
       "      <td>12/01/2018</td>\n",
       "      <td>Employed</td>\n",
       "      <td>F</td>\n",
       "      <td>4. Upper-Middle</td>\n",
       "      <td>Suburban</td>\n",
       "      <td>Married</td>\n",
       "      <td>113</td>\n",
       "      <td>...</td>\n",
       "      <td>32</td>\n",
       "      <td>2. 6 Months</td>\n",
       "      <td>Collision</td>\n",
       "      <td>Agent</td>\n",
       "      <td>Two-Door Car</td>\n",
       "      <td>Midsize</td>\n",
       "      <td>Toyota</td>\n",
       "      <td>25781.0</td>\n",
       "      <td>N</td>\n",
       "      <td>1001</td>\n",
       "    </tr>\n",
       "    <tr>\n",
       "      <th>1</th>\n",
       "      <td>NE</td>\n",
       "      <td>6.548153</td>\n",
       "      <td>3. Bachelor</td>\n",
       "      <td>12/01/2018</td>\n",
       "      <td>Unemployed</td>\n",
       "      <td>F</td>\n",
       "      <td>1. Poor</td>\n",
       "      <td>Suburban</td>\n",
       "      <td>Single</td>\n",
       "      <td>109</td>\n",
       "      <td>...</td>\n",
       "      <td>13</td>\n",
       "      <td>5. Long-Term Customer</td>\n",
       "      <td>Scratch/Dent</td>\n",
       "      <td>Agent</td>\n",
       "      <td>Four-Door Car</td>\n",
       "      <td>Midsize</td>\n",
       "      <td>Chevrolet</td>\n",
       "      <td>37061.0</td>\n",
       "      <td>N</td>\n",
       "      <td>1002</td>\n",
       "    </tr>\n",
       "    <tr>\n",
       "      <th>2</th>\n",
       "      <td>OK</td>\n",
       "      <td>7.161423</td>\n",
       "      <td>3. Bachelor</td>\n",
       "      <td>12/01/2018</td>\n",
       "      <td>Employed</td>\n",
       "      <td>F</td>\n",
       "      <td>3. Middle</td>\n",
       "      <td>Suburban</td>\n",
       "      <td>Married</td>\n",
       "      <td>126</td>\n",
       "      <td>...</td>\n",
       "      <td>18</td>\n",
       "      <td>5. Long-Term Customer</td>\n",
       "      <td>Collision</td>\n",
       "      <td>Agent</td>\n",
       "      <td>Two-Door Car</td>\n",
       "      <td>Midsize</td>\n",
       "      <td>Chevrolet</td>\n",
       "      <td>17236.0</td>\n",
       "      <td>N</td>\n",
       "      <td>1003</td>\n",
       "    </tr>\n",
       "    <tr>\n",
       "      <th>3</th>\n",
       "      <td>MO</td>\n",
       "      <td>6.639335</td>\n",
       "      <td>3. Bachelor</td>\n",
       "      <td>12/01/2018</td>\n",
       "      <td>Unemployed</td>\n",
       "      <td>M</td>\n",
       "      <td>1. Poor</td>\n",
       "      <td>Suburban</td>\n",
       "      <td>Married</td>\n",
       "      <td>101</td>\n",
       "      <td>...</td>\n",
       "      <td>18</td>\n",
       "      <td>5. Long-Term Customer</td>\n",
       "      <td>Collision</td>\n",
       "      <td>Call Center</td>\n",
       "      <td>SUV</td>\n",
       "      <td>Midsize</td>\n",
       "      <td>Honda</td>\n",
       "      <td>30270.0</td>\n",
       "      <td>N</td>\n",
       "      <td>1004</td>\n",
       "    </tr>\n",
       "    <tr>\n",
       "      <th>4</th>\n",
       "      <td>KS</td>\n",
       "      <td>5.639668</td>\n",
       "      <td>3. Bachelor</td>\n",
       "      <td>12/01/2018</td>\n",
       "      <td>Employed</td>\n",
       "      <td>M</td>\n",
       "      <td>3. Middle</td>\n",
       "      <td>Rural</td>\n",
       "      <td>Single</td>\n",
       "      <td>137</td>\n",
       "      <td>...</td>\n",
       "      <td>52</td>\n",
       "      <td>5. Long-Term Customer</td>\n",
       "      <td>Collision</td>\n",
       "      <td>Agent</td>\n",
       "      <td>Four-Door Car</td>\n",
       "      <td>Midsize</td>\n",
       "      <td>Ford</td>\n",
       "      <td>16263.0</td>\n",
       "      <td>N</td>\n",
       "      <td>1005</td>\n",
       "    </tr>\n",
       "  </tbody>\n",
       "</table>\n",
       "<p>5 rows × 21 columns</p>\n",
       "</div>"
      ],
      "text/plain": [
       "  State_Code  Claim_Amount    Education  Claim_Date Employment_Status Gender  \\\n",
       "0         KS      6.355343  3. Bachelor  12/01/2018          Employed      F   \n",
       "1         NE      6.548153  3. Bachelor  12/01/2018        Unemployed      F   \n",
       "2         OK      7.161423  3. Bachelor  12/01/2018          Employed      F   \n",
       "3         MO      6.639335  3. Bachelor  12/01/2018        Unemployed      M   \n",
       "4         KS      5.639668  3. Bachelor  12/01/2018          Employed      M   \n",
       "\n",
       "            Income  Location Marital_Status  Monthly_Premium       ...         \\\n",
       "0  4. Upper-Middle  Suburban        Married              113       ...          \n",
       "1          1. Poor  Suburban         Single              109       ...          \n",
       "2        3. Middle  Suburban        Married              126       ...          \n",
       "3          1. Poor  Suburban        Married              101       ...          \n",
       "4        3. Middle     Rural         Single              137       ...          \n",
       "\n",
       "   Months_Since_Last_Claim  Months_Since_Policy_Inception   Claim_Cause  \\\n",
       "0                       32                    2. 6 Months     Collision   \n",
       "1                       13          5. Long-Term Customer  Scratch/Dent   \n",
       "2                       18          5. Long-Term Customer     Collision   \n",
       "3                       18          5. Long-Term Customer     Collision   \n",
       "4                       52          5. Long-Term Customer     Collision   \n",
       "\n",
       "  Claim_Report_Type  Vehicle_Class Vehicle_Size Vehicle_Model  \\\n",
       "0             Agent   Two-Door Car      Midsize        Toyota   \n",
       "1             Agent  Four-Door Car      Midsize     Chevrolet   \n",
       "2             Agent   Two-Door Car      Midsize     Chevrolet   \n",
       "3       Call Center            SUV      Midsize         Honda   \n",
       "4             Agent  Four-Door Car      Midsize          Ford   \n",
       "\n",
       "  Outstanding_Balance  Fraudulent_Claim Claimant__Number  \n",
       "0             25781.0                 N             1001  \n",
       "1             37061.0                 N             1002  \n",
       "2             17236.0                 N             1003  \n",
       "3             30270.0                 N             1004  \n",
       "4             16263.0                 N             1005  \n",
       "\n",
       "[5 rows x 21 columns]"
      ]
     },
     "execution_count": 20,
     "metadata": {},
     "output_type": "execute_result"
    }
   ],
   "source": [
    "fraud=transform_vars(fraud)\n",
    "fraud_test=transform_vars(fraud_test)\n",
    "fraud[:5]"
   ]
  },
  {
   "cell_type": "markdown",
   "metadata": {},
   "source": [
    "This graph shows the distribution of income after it is binned to check the skewness."
   ]
  },
  {
   "cell_type": "code",
   "execution_count": 21,
   "metadata": {},
   "outputs": [
    {
     "data": {
      "image/png": "[encoded data removed]",
      "text/plain": [
       "<matplotlib.figure.Figure at 0x1a1813b630>"
      ]
     },
     "metadata": {},
     "output_type": "display_data"
    }
   ],
   "source": [
    "ax = fraud['Income'].value_counts().plot(kind = 'bar',\n",
    "                                        figsize = (14,8),\n",
    "                                        title=\"Income Group Frequencies\")\n",
    "ax.set_xlabel(\"Income Groups\")\n",
    "ax.set_ylabel(\"Frequency\")\n",
    "plt.show()"
   ]
  },
  {
   "cell_type": "markdown",
   "metadata": {},
   "source": [
    "Encoding the variables by creating dummy variables for running regressions. For the two binary variables, we are hard coding them so that we can control what their values will be."
   ]
  },
  {
   "cell_type": "code",
   "execution_count": 22,
   "metadata": {},
   "outputs": [
    {
     "data": {
      "text/html": [
       "<div>\n",
       "<style>\n",
       "    .dataframe thead tr:only-child th {\n",
       "        text-align: right;\n",
       "    }\n",
       "\n",
       "    .dataframe thead th {\n",
       "        text-align: left;\n",
       "    }\n",
       "\n",
       "    .dataframe tbody tr th {\n",
       "        vertical-align: top;\n",
       "    }\n",
       "</style>\n",
       "<table border=\"1\" class=\"dataframe\">\n",
       "  <thead>\n",
       "    <tr style=\"text-align: right;\">\n",
       "      <th></th>\n",
       "      <th>Claim_Amount</th>\n",
       "      <th>Claim_Date</th>\n",
       "      <th>Gender</th>\n",
       "      <th>Monthly_Premium</th>\n",
       "      <th>Annual_Premium</th>\n",
       "      <th>Months_Since_Last_Claim</th>\n",
       "      <th>Outstanding_Balance</th>\n",
       "      <th>Fraudulent_Claim</th>\n",
       "      <th>Claimant__Number</th>\n",
       "      <th>State_IA</th>\n",
       "      <th>...</th>\n",
       "      <th>Class_SUV</th>\n",
       "      <th>Class_Sports Car</th>\n",
       "      <th>Class_Two-Door Car</th>\n",
       "      <th>Size_Compact</th>\n",
       "      <th>Size_Luxury</th>\n",
       "      <th>Size_Midsize</th>\n",
       "      <th>Model_Chevrolet</th>\n",
       "      <th>Model_Ford</th>\n",
       "      <th>Model_Honda</th>\n",
       "      <th>Model_Toyota</th>\n",
       "    </tr>\n",
       "  </thead>\n",
       "  <tbody>\n",
       "    <tr>\n",
       "      <th>3264</th>\n",
       "      <td>7.162781</td>\n",
       "      <td>12</td>\n",
       "      <td>1</td>\n",
       "      <td>117</td>\n",
       "      <td>1404</td>\n",
       "      <td>30</td>\n",
       "      <td>21750.0</td>\n",
       "      <td>0</td>\n",
       "      <td>4265</td>\n",
       "      <td>1</td>\n",
       "      <td>...</td>\n",
       "      <td>0</td>\n",
       "      <td>0</td>\n",
       "      <td>0</td>\n",
       "      <td>0</td>\n",
       "      <td>1</td>\n",
       "      <td>0</td>\n",
       "      <td>0</td>\n",
       "      <td>1</td>\n",
       "      <td>0</td>\n",
       "      <td>0</td>\n",
       "    </tr>\n",
       "    <tr>\n",
       "      <th>4128</th>\n",
       "      <td>7.966381</td>\n",
       "      <td>1</td>\n",
       "      <td>1</td>\n",
       "      <td>128</td>\n",
       "      <td>1536</td>\n",
       "      <td>13</td>\n",
       "      <td>36476.0</td>\n",
       "      <td>0</td>\n",
       "      <td>5129</td>\n",
       "      <td>0</td>\n",
       "      <td>...</td>\n",
       "      <td>0</td>\n",
       "      <td>0</td>\n",
       "      <td>0</td>\n",
       "      <td>0</td>\n",
       "      <td>0</td>\n",
       "      <td>1</td>\n",
       "      <td>0</td>\n",
       "      <td>1</td>\n",
       "      <td>0</td>\n",
       "      <td>0</td>\n",
       "    </tr>\n",
       "    <tr>\n",
       "      <th>3968</th>\n",
       "      <td>6.146164</td>\n",
       "      <td>12</td>\n",
       "      <td>1</td>\n",
       "      <td>128</td>\n",
       "      <td>1536</td>\n",
       "      <td>15</td>\n",
       "      <td>37812.0</td>\n",
       "      <td>0</td>\n",
       "      <td>4969</td>\n",
       "      <td>0</td>\n",
       "      <td>...</td>\n",
       "      <td>0</td>\n",
       "      <td>0</td>\n",
       "      <td>1</td>\n",
       "      <td>1</td>\n",
       "      <td>0</td>\n",
       "      <td>0</td>\n",
       "      <td>0</td>\n",
       "      <td>1</td>\n",
       "      <td>0</td>\n",
       "      <td>0</td>\n",
       "    </tr>\n",
       "    <tr>\n",
       "      <th>3373</th>\n",
       "      <td>6.731332</td>\n",
       "      <td>12</td>\n",
       "      <td>0</td>\n",
       "      <td>50</td>\n",
       "      <td>600</td>\n",
       "      <td>17</td>\n",
       "      <td>40013.0</td>\n",
       "      <td>0</td>\n",
       "      <td>4374</td>\n",
       "      <td>0</td>\n",
       "      <td>...</td>\n",
       "      <td>0</td>\n",
       "      <td>1</td>\n",
       "      <td>0</td>\n",
       "      <td>0</td>\n",
       "      <td>0</td>\n",
       "      <td>1</td>\n",
       "      <td>0</td>\n",
       "      <td>1</td>\n",
       "      <td>0</td>\n",
       "      <td>0</td>\n",
       "    </tr>\n",
       "    <tr>\n",
       "      <th>4098</th>\n",
       "      <td>5.985159</td>\n",
       "      <td>1</td>\n",
       "      <td>0</td>\n",
       "      <td>77</td>\n",
       "      <td>924</td>\n",
       "      <td>1</td>\n",
       "      <td>22559.0</td>\n",
       "      <td>0</td>\n",
       "      <td>5099</td>\n",
       "      <td>1</td>\n",
       "      <td>...</td>\n",
       "      <td>1</td>\n",
       "      <td>0</td>\n",
       "      <td>0</td>\n",
       "      <td>1</td>\n",
       "      <td>0</td>\n",
       "      <td>0</td>\n",
       "      <td>0</td>\n",
       "      <td>1</td>\n",
       "      <td>0</td>\n",
       "      <td>0</td>\n",
       "    </tr>\n",
       "  </tbody>\n",
       "</table>\n",
       "<p>5 rows × 62 columns</p>\n",
       "</div>"
      ],
      "text/plain": [
       "      Claim_Amount  Claim_Date  Gender  Monthly_Premium  Annual_Premium  \\\n",
       "3264      7.162781          12       1              117            1404   \n",
       "4128      7.966381           1       1              128            1536   \n",
       "3968      6.146164          12       1              128            1536   \n",
       "3373      6.731332          12       0               50             600   \n",
       "4098      5.985159           1       0               77             924   \n",
       "\n",
       "      Months_Since_Last_Claim  Outstanding_Balance  Fraudulent_Claim  \\\n",
       "3264                       30              21750.0                 0   \n",
       "4128                       13              36476.0                 0   \n",
       "3968                       15              37812.0                 0   \n",
       "3373                       17              40013.0                 0   \n",
       "4098                        1              22559.0                 0   \n",
       "\n",
       "      Claimant__Number  State_IA      ...       Class_SUV  Class_Sports Car  \\\n",
       "3264              4265         1      ...               0                 0   \n",
       "4128              5129         0      ...               0                 0   \n",
       "3968              4969         0      ...               0                 0   \n",
       "3373              4374         0      ...               0                 1   \n",
       "4098              5099         1      ...               1                 0   \n",
       "\n",
       "      Class_Two-Door Car  Size_Compact  Size_Luxury  Size_Midsize  \\\n",
       "3264                   0             0            1             0   \n",
       "4128                   0             0            0             1   \n",
       "3968                   1             1            0             0   \n",
       "3373                   0             0            0             1   \n",
       "4098                   0             1            0             0   \n",
       "\n",
       "      Model_Chevrolet  Model_Ford  Model_Honda  Model_Toyota  \n",
       "3264                0           1            0             0  \n",
       "4128                0           1            0             0  \n",
       "3968                0           1            0             0  \n",
       "3373                0           1            0             0  \n",
       "4098                0           1            0             0  \n",
       "\n",
       "[5 rows x 62 columns]"
      ]
     },
     "execution_count": 22,
     "metadata": {},
     "output_type": "execute_result"
    }
   ],
   "source": [
    "encode_vars={\"Fraudulent_Claim\": {\"Y\": 1, \"N\": 0}, \"Gender\":{\"M\": 0, \"F\": 1}}\n",
    "fraud.replace(encode_vars, inplace=True)\n",
    "fraud_test.replace(encode_vars, inplace=True)\n",
    "\n",
    "fraud.Claim_Date=fraud.Claim_Date.str[:2]\n",
    "fraud_test.Claim_Date=fraud_test.Claim_Date.str[:2]\n",
    "\n",
    "fraud.Claim_Date=pd.to_numeric(fraud.Claim_Date)\n",
    "fraud_test.Claim_Date=pd.to_numeric(fraud_test.Claim_Date)\n",
    "\n",
    "fraud_dummies=pd.get_dummies(fraud, columns=[\"State_Code\",\"Education\",\"Employment_Status\",\"Income\",\"Location\",\"Marital_Status\",\n",
    "                             \"Months_Since_Policy_Inception\",\"Claim_Cause\",\"Claim_Report_Type\",\"Vehicle_Class\",\n",
    "                             \"Vehicle_Size\",\"Vehicle_Model\"], prefix=[\"State\",\"Edu\",\"Employment\",\"Income\", \"Location\",\n",
    "                                                                     \"Marital\",\"Inception\",\"Cause\",\"Reported\",\"Class\",\n",
    "                                                                     \"Size\",\"Model\"])\n",
    "fraud_test_dummies=pd.get_dummies(fraud_test, columns=[\"State_Code\",\"Education\",\"Employment_Status\",\"Income\",\"Location\",\"Marital_Status\",\n",
    "                             \"Months_Since_Policy_Inception\",\"Claim_Cause\",\"Claim_Report_Type\",\"Vehicle_Class\",\n",
    "                             \"Vehicle_Size\",\"Vehicle_Model\"], prefix=[\"State\",\"Edu\",\"Employment\",\"Income\", \"Location\",\n",
    "                                                                     \"Marital\",\"Inception\",\"Cause\",\"Reported\",\"Class\",\n",
    "                                                                     \"Size\",\"Model\"])\n",
    "fraud_test_dummies[\"Cause_Fire\"]=0\n",
    "fraud_test_dummies=fraud_test_dummies[['Claim_Amount', 'Claim_Date', 'Gender', 'Monthly_Premium',\n",
    "       'Annual_Premium', 'Months_Since_Last_Claim', 'Outstanding_Balance', 'Fraudulent_Claim', 'Claimant__Number',\n",
    "       'State_IA', 'State_KS', 'State_MO', 'State_NE', 'State_OK',\n",
    "       'Edu_1. High School or Below', 'Edu_2. College', 'Edu_3. Bachelor',\n",
    "       'Edu_4. Master', 'Edu_Doctor', 'Employment_Disabled',\n",
    "       'Employment_Employed', 'Employment_Medical Leave',\n",
    "       'Employment_Retired', 'Employment_Unemployed', 'Income_1. Poor',\n",
    "       'Income_2. Lower-Middle', 'Income_3. Middle',\n",
    "       'Income_4. Upper-Middle', 'Income_5. Upper', 'Location_Rural',\n",
    "       'Location_Suburban', 'Location_Urban', 'Marital_Divorced',\n",
    "       'Marital_Married', 'Marital_Single', 'Inception_1. New Customer',\n",
    "       'Inception_2. 6 Months', 'Inception_3. 1 year',\n",
    "       'Inception_4. 2 years', 'Inception_5. Long-Term Customer',\n",
    "       'Cause_Collision', 'Cause_Fire', 'Cause_Hail', 'Cause_Other',\n",
    "       'Cause_Scratch/Dent', 'Reported_Agent', 'Reported_Branch',\n",
    "       'Reported_Call Center', 'Reported_Web', 'Class_Four-Door Car',\n",
    "       'Class_Luxury Car', 'Class_Luxury SUV', 'Class_SUV',\n",
    "       'Class_Sports Car', 'Class_Two-Door Car', 'Size_Compact',\n",
    "       'Size_Luxury', 'Size_Midsize', 'Model_Chevrolet', 'Model_Ford',\n",
    "       'Model_Honda', 'Model_Toyota']]\n",
    "fraud_dummies.sample(5)"
   ]
  },
  {
   "cell_type": "markdown",
   "metadata": {},
   "source": [
    "Encoding variables so that they are all numeric for running decision trees and random trees."
   ]
  },
  {
   "cell_type": "code",
   "execution_count": 23,
   "metadata": {},
   "outputs": [
    {
     "data": {
      "text/html": [
       "<div>\n",
       "<style>\n",
       "    .dataframe thead tr:only-child th {\n",
       "        text-align: right;\n",
       "    }\n",
       "\n",
       "    .dataframe thead th {\n",
       "        text-align: left;\n",
       "    }\n",
       "\n",
       "    .dataframe tbody tr th {\n",
       "        vertical-align: top;\n",
       "    }\n",
       "</style>\n",
       "<table border=\"1\" class=\"dataframe\">\n",
       "  <thead>\n",
       "    <tr style=\"text-align: right;\">\n",
       "      <th></th>\n",
       "      <th>State_Code</th>\n",
       "      <th>Claim_Amount</th>\n",
       "      <th>Education</th>\n",
       "      <th>Claim_Date</th>\n",
       "      <th>Employment_Status</th>\n",
       "      <th>Gender</th>\n",
       "      <th>Income</th>\n",
       "      <th>Location</th>\n",
       "      <th>Marital_Status</th>\n",
       "      <th>Monthly_Premium</th>\n",
       "      <th>...</th>\n",
       "      <th>Months_Since_Last_Claim</th>\n",
       "      <th>Months_Since_Policy_Inception</th>\n",
       "      <th>Claim_Cause</th>\n",
       "      <th>Claim_Report_Type</th>\n",
       "      <th>Vehicle_Class</th>\n",
       "      <th>Vehicle_Size</th>\n",
       "      <th>Vehicle_Model</th>\n",
       "      <th>Outstanding_Balance</th>\n",
       "      <th>Fraudulent_Claim</th>\n",
       "      <th>Claimant__Number</th>\n",
       "    </tr>\n",
       "  </thead>\n",
       "  <tbody>\n",
       "    <tr>\n",
       "      <th>1638</th>\n",
       "      <td>3</td>\n",
       "      <td>6.733867</td>\n",
       "      <td>2</td>\n",
       "      <td>12</td>\n",
       "      <td>4</td>\n",
       "      <td>0</td>\n",
       "      <td>0</td>\n",
       "      <td>1</td>\n",
       "      <td>1</td>\n",
       "      <td>84</td>\n",
       "      <td>...</td>\n",
       "      <td>11</td>\n",
       "      <td>4</td>\n",
       "      <td>0</td>\n",
       "      <td>0</td>\n",
       "      <td>3</td>\n",
       "      <td>2</td>\n",
       "      <td>0</td>\n",
       "      <td>6599.0</td>\n",
       "      <td>0</td>\n",
       "      <td>2639</td>\n",
       "    </tr>\n",
       "    <tr>\n",
       "      <th>4789</th>\n",
       "      <td>0</td>\n",
       "      <td>6.280496</td>\n",
       "      <td>0</td>\n",
       "      <td>1</td>\n",
       "      <td>1</td>\n",
       "      <td>1</td>\n",
       "      <td>3</td>\n",
       "      <td>1</td>\n",
       "      <td>1</td>\n",
       "      <td>122</td>\n",
       "      <td>...</td>\n",
       "      <td>13</td>\n",
       "      <td>4</td>\n",
       "      <td>4</td>\n",
       "      <td>0</td>\n",
       "      <td>0</td>\n",
       "      <td>1</td>\n",
       "      <td>0</td>\n",
       "      <td>25402.0</td>\n",
       "      <td>0</td>\n",
       "      <td>5790</td>\n",
       "    </tr>\n",
       "    <tr>\n",
       "      <th>4943</th>\n",
       "      <td>2</td>\n",
       "      <td>6.815359</td>\n",
       "      <td>2</td>\n",
       "      <td>1</td>\n",
       "      <td>4</td>\n",
       "      <td>0</td>\n",
       "      <td>0</td>\n",
       "      <td>2</td>\n",
       "      <td>1</td>\n",
       "      <td>84</td>\n",
       "      <td>...</td>\n",
       "      <td>29</td>\n",
       "      <td>4</td>\n",
       "      <td>0</td>\n",
       "      <td>1</td>\n",
       "      <td>3</td>\n",
       "      <td>2</td>\n",
       "      <td>0</td>\n",
       "      <td>23475.0</td>\n",
       "      <td>0</td>\n",
       "      <td>5944</td>\n",
       "    </tr>\n",
       "    <tr>\n",
       "      <th>3877</th>\n",
       "      <td>0</td>\n",
       "      <td>6.946642</td>\n",
       "      <td>1</td>\n",
       "      <td>12</td>\n",
       "      <td>1</td>\n",
       "      <td>1</td>\n",
       "      <td>2</td>\n",
       "      <td>2</td>\n",
       "      <td>1</td>\n",
       "      <td>58</td>\n",
       "      <td>...</td>\n",
       "      <td>20</td>\n",
       "      <td>3</td>\n",
       "      <td>3</td>\n",
       "      <td>1</td>\n",
       "      <td>3</td>\n",
       "      <td>0</td>\n",
       "      <td>0</td>\n",
       "      <td>43766.0</td>\n",
       "      <td>0</td>\n",
       "      <td>4878</td>\n",
       "    </tr>\n",
       "    <tr>\n",
       "      <th>2503</th>\n",
       "      <td>3</td>\n",
       "      <td>6.961157</td>\n",
       "      <td>4</td>\n",
       "      <td>12</td>\n",
       "      <td>1</td>\n",
       "      <td>1</td>\n",
       "      <td>1</td>\n",
       "      <td>1</td>\n",
       "      <td>1</td>\n",
       "      <td>83</td>\n",
       "      <td>...</td>\n",
       "      <td>18</td>\n",
       "      <td>4</td>\n",
       "      <td>4</td>\n",
       "      <td>2</td>\n",
       "      <td>4</td>\n",
       "      <td>2</td>\n",
       "      <td>0</td>\n",
       "      <td>4433.0</td>\n",
       "      <td>0</td>\n",
       "      <td>3504</td>\n",
       "    </tr>\n",
       "  </tbody>\n",
       "</table>\n",
       "<p>5 rows × 21 columns</p>\n",
       "</div>"
      ],
      "text/plain": [
       "      State_Code  Claim_Amount  Education  Claim_Date  Employment_Status  \\\n",
       "1638           3      6.733867          2          12                  4   \n",
       "4789           0      6.280496          0           1                  1   \n",
       "4943           2      6.815359          2           1                  4   \n",
       "3877           0      6.946642          1          12                  1   \n",
       "2503           3      6.961157          4          12                  1   \n",
       "\n",
       "      Gender  Income  Location  Marital_Status  Monthly_Premium  \\\n",
       "1638       0       0         1               1               84   \n",
       "4789       1       3         1               1              122   \n",
       "4943       0       0         2               1               84   \n",
       "3877       1       2         2               1               58   \n",
       "2503       1       1         1               1               83   \n",
       "\n",
       "            ...         Months_Since_Last_Claim  \\\n",
       "1638        ...                              11   \n",
       "4789        ...                              13   \n",
       "4943        ...                              29   \n",
       "3877        ...                              20   \n",
       "2503        ...                              18   \n",
       "\n",
       "      Months_Since_Policy_Inception  Claim_Cause  Claim_Report_Type  \\\n",
       "1638                              4            0                  0   \n",
       "4789                              4            4                  0   \n",
       "4943                              4            0                  1   \n",
       "3877                              3            3                  1   \n",
       "2503                              4            4                  2   \n",
       "\n",
       "      Vehicle_Class  Vehicle_Size  Vehicle_Model  Outstanding_Balance  \\\n",
       "1638              3             2              0               6599.0   \n",
       "4789              0             1              0              25402.0   \n",
       "4943              3             2              0              23475.0   \n",
       "3877              3             0              0              43766.0   \n",
       "2503              4             2              0               4433.0   \n",
       "\n",
       "      Fraudulent_Claim  Claimant__Number  \n",
       "1638                 0              2639  \n",
       "4789                 0              5790  \n",
       "4943                 0              5944  \n",
       "3877                 0              4878  \n",
       "2503                 0              3504  \n",
       "\n",
       "[5 rows x 21 columns]"
      ]
     },
     "execution_count": 23,
     "metadata": {},
     "output_type": "execute_result"
    }
   ],
   "source": [
    "from sklearn import preprocessing \n",
    "def encode_features(df_train): \n",
    "    features = [\"State_Code\",\"Education\",\"Employment_Status\",\"Income\",\"Location\",\"Marital_Status\",\n",
    "                             \"Months_Since_Policy_Inception\",\"Claim_Cause\",\"Claim_Report_Type\",\"Vehicle_Class\",\n",
    "                             \"Vehicle_Size\",\"Vehicle_Model\"] \n",
    "    df_combined = pd.concat([df_train[features]]) \n",
    "    for feature in features: \n",
    "        le = preprocessing.LabelEncoder() \n",
    "        le = le.fit(df_combined[feature]) \n",
    "        df_train[feature] = le.transform(df_train[feature]) \n",
    "    return df_train\n",
    "\n",
    "fraud_encoded= encode_features(fraud)\n",
    "fraud_test_encoded=encode_features(fraud_test)\n",
    "fraud_encoded.sample(5)"
   ]
  },
  {
   "cell_type": "markdown",
   "metadata": {},
   "source": [
    "Splitting both encoded datasets into training and testing sets"
   ]
  },
  {
   "cell_type": "code",
   "execution_count": 24,
   "metadata": {
    "collapsed": true
   },
   "outputs": [],
   "source": [
    "from sklearn.model_selection import train_test_split \n",
    "\n",
    "X_all = fraud_dummies.drop(['Fraudulent_Claim', 'Claimant__Number'], axis=1) \n",
    "y_all = fraud_dummies['Fraudulent_Claim'] \n",
    "\n",
    "X_all2 = fraud_encoded.drop(['Fraudulent_Claim', 'Claimant__Number'], axis=1) \n",
    "y_all2 = fraud_encoded['Fraudulent_Claim'] \n",
    "\n",
    "num_test = 0.30 \n",
    "X_train, X_test, y_train, y_test = train_test_split(X_all, y_all, \n",
    "    test_size=num_test, random_state=23)\n",
    "\n",
    "X_train2, X_test2, y_train2, y_test2 = train_test_split(X_all2, y_all2, \n",
    "    test_size=num_test, random_state=23)"
   ]
  },
  {
   "cell_type": "markdown",
   "metadata": {},
   "source": [
    "Visualizing the distibution of fraudlent claims in the training data. It can be seen that the data is very unbalanced, so resampling is needed."
   ]
  },
  {
   "cell_type": "code",
   "execution_count": 25,
   "metadata": {},
   "outputs": [
    {
     "data": {
      "text/html": [
       "<div>\n",
       "<style>\n",
       "    .dataframe thead tr:only-child th {\n",
       "        text-align: right;\n",
       "    }\n",
       "\n",
       "    .dataframe thead th {\n",
       "        text-align: left;\n",
       "    }\n",
       "\n",
       "    .dataframe tbody tr th {\n",
       "        vertical-align: top;\n",
       "    }\n",
       "</style>\n",
       "<table border=\"1\" class=\"dataframe\">\n",
       "  <thead>\n",
       "    <tr style=\"text-align: right;\">\n",
       "      <th>col_0</th>\n",
       "      <th>count</th>\n",
       "    </tr>\n",
       "    <tr>\n",
       "      <th>Fraudulent_Claim</th>\n",
       "      <th></th>\n",
       "    </tr>\n",
       "  </thead>\n",
       "  <tbody>\n",
       "    <tr>\n",
       "      <th>0</th>\n",
       "      <td>3292</td>\n",
       "    </tr>\n",
       "    <tr>\n",
       "      <th>1</th>\n",
       "      <td>208</td>\n",
       "    </tr>\n",
       "  </tbody>\n",
       "</table>\n",
       "</div>"
      ],
      "text/plain": [
       "col_0             count\n",
       "Fraudulent_Claim       \n",
       "0                  3292\n",
       "1                   208"
      ]
     },
     "execution_count": 25,
     "metadata": {},
     "output_type": "execute_result"
    },
    {
     "data": {
      "image/png": "[encoded data removed]",
      "text/plain": [
       "<matplotlib.figure.Figure at 0x1a16c4c358>"
      ]
     },
     "metadata": {},
     "output_type": "display_data"
    }
   ],
   "source": [
    "sns.countplot(x=y_train)\n",
    "counts = pd.crosstab(index=y_train,columns=\"count\")   \n",
    "counts"
   ]
  },
  {
   "cell_type": "markdown",
   "metadata": {},
   "source": [
    "Code to implement undersampling on the both of the train datasets, then checking the distribution to make sure it worked"
   ]
  },
  {
   "cell_type": "code",
   "execution_count": 26,
   "metadata": {
    "collapsed": true
   },
   "outputs": [],
   "source": [
    "from imblearn.under_sampling import RandomUnderSampler\n",
    "#good seeds: 2018, 50, 300, 400\n",
    "rus = RandomUnderSampler(return_indices=True, random_state=400)\n",
    "X_rus, y_rus, id_rus = rus.fit_sample(X_train, y_train)\n",
    "\n",
    "X_rus2, y_rus2, id_rus2 = rus.fit_sample(X_train2, y_train2)"
   ]
  },
  {
   "cell_type": "code",
   "execution_count": 27,
   "metadata": {},
   "outputs": [
    {
     "data": {
      "text/html": [
       "<div>\n",
       "<style>\n",
       "    .dataframe thead tr:only-child th {\n",
       "        text-align: right;\n",
       "    }\n",
       "\n",
       "    .dataframe thead th {\n",
       "        text-align: left;\n",
       "    }\n",
       "\n",
       "    .dataframe tbody tr th {\n",
       "        vertical-align: top;\n",
       "    }\n",
       "</style>\n",
       "<table border=\"1\" class=\"dataframe\">\n",
       "  <thead>\n",
       "    <tr style=\"text-align: right;\">\n",
       "      <th>col_0</th>\n",
       "      <th>count</th>\n",
       "    </tr>\n",
       "    <tr>\n",
       "      <th>row_0</th>\n",
       "      <th></th>\n",
       "    </tr>\n",
       "  </thead>\n",
       "  <tbody>\n",
       "    <tr>\n",
       "      <th>0</th>\n",
       "      <td>208</td>\n",
       "    </tr>\n",
       "    <tr>\n",
       "      <th>1</th>\n",
       "      <td>208</td>\n",
       "    </tr>\n",
       "  </tbody>\n",
       "</table>\n",
       "</div>"
      ],
      "text/plain": [
       "col_0  count\n",
       "row_0       \n",
       "0        208\n",
       "1        208"
      ]
     },
     "execution_count": 27,
     "metadata": {},
     "output_type": "execute_result"
    },
    {
     "data": {
      "image/png": "[encoded data removed]",
      "text/plain": [
       "<matplotlib.figure.Figure at 0x1a1860deb8>"
      ]
     },
     "metadata": {},
     "output_type": "display_data"
    }
   ],
   "source": [
    "sns.countplot(x=y_rus)\n",
    "counts = pd.crosstab(index=y_rus,columns=\"count\")   \n",
    "counts\n",
    "\n",
    "sns.countplot(x=y_rus2)\n",
    "counts2 = pd.crosstab(index=y_rus2,columns=\"count\")   \n",
    "counts2"
   ]
  },
  {
   "cell_type": "markdown",
   "metadata": {},
   "source": [
    "Code to implement SMOTE (Synthetic Minority Over-sampling Technique) oversampling. This technique involves creating synthetic data points by using k nearest neighbors concepts. We then plot the new distibution to make sure the resampling works."
   ]
  },
  {
   "cell_type": "code",
   "execution_count": 28,
   "metadata": {
    "collapsed": true
   },
   "outputs": [],
   "source": [
    "from imblearn.over_sampling import SMOTE\n",
    "smote = SMOTE(ratio='minority', random_state=400)\n",
    "X_sm, y_sm = smote.fit_sample(X_train, y_train)\n",
    "\n",
    "X_sm2, y_sm2 = smote.fit_sample(X_train2, y_train2)"
   ]
  },
  {
   "cell_type": "code",
   "execution_count": 29,
   "metadata": {},
   "outputs": [
    {
     "data": {
      "text/html": [
       "<div>\n",
       "<style>\n",
       "    .dataframe thead tr:only-child th {\n",
       "        text-align: right;\n",
       "    }\n",
       "\n",
       "    .dataframe thead th {\n",
       "        text-align: left;\n",
       "    }\n",
       "\n",
       "    .dataframe tbody tr th {\n",
       "        vertical-align: top;\n",
       "    }\n",
       "</style>\n",
       "<table border=\"1\" class=\"dataframe\">\n",
       "  <thead>\n",
       "    <tr style=\"text-align: right;\">\n",
       "      <th>col_0</th>\n",
       "      <th>count</th>\n",
       "    </tr>\n",
       "    <tr>\n",
       "      <th>row_0</th>\n",
       "      <th></th>\n",
       "    </tr>\n",
       "  </thead>\n",
       "  <tbody>\n",
       "    <tr>\n",
       "      <th>0</th>\n",
       "      <td>3292</td>\n",
       "    </tr>\n",
       "    <tr>\n",
       "      <th>1</th>\n",
       "      <td>3292</td>\n",
       "    </tr>\n",
       "  </tbody>\n",
       "</table>\n",
       "</div>"
      ],
      "text/plain": [
       "col_0  count\n",
       "row_0       \n",
       "0       3292\n",
       "1       3292"
      ]
     },
     "execution_count": 29,
     "metadata": {},
     "output_type": "execute_result"
    },
    {
     "data": {
      "image/png": "[encoded data removed]",
      "text/plain": [
       "<matplotlib.figure.Figure at 0x1a19019518>"
      ]
     },
     "metadata": {},
     "output_type": "display_data"
    }
   ],
   "source": [
    "sns.countplot(x=y_sm)\n",
    "counts = pd.crosstab(index=y_sm,columns=\"count\")   \n",
    "counts\n",
    "\n",
    "sns.countplot(x=y_sm)\n",
    "counts = pd.crosstab(index=y_sm,columns=\"count\")   \n",
    "counts"
   ]
  },
  {
   "cell_type": "markdown",
   "metadata": {},
   "source": [
    "Code to run a decision tree using the SMOTE oversampled data"
   ]
  },
  {
   "cell_type": "code",
   "execution_count": 30,
   "metadata": {},
   "outputs": [
    {
     "name": "stdout",
     "output_type": "stream",
     "text": [
      "0.796802131912\n"
     ]
    }
   ],
   "source": [
    "from sklearn.tree import DecisionTreeClassifier\n",
    "from sklearn.metrics import accuracy_score\n",
    "\n",
    "# Choose the type of classifier. \n",
    "tree = DecisionTreeClassifier(criterion=\"gini\", max_depth=3)\n",
    "\n",
    "# Fit the best algorithm to the data. \n",
    "tree.fit(X_sm2, y_sm2)\n",
    "\n",
    "predictions = tree.predict(X_test2)\n",
    "print(accuracy_score(y_test2, predictions))\n"
   ]
  },
  {
   "cell_type": "markdown",
   "metadata": {},
   "source": [
    "Code to run a decision tree on the undersampled data"
   ]
  },
  {
   "cell_type": "code",
   "execution_count": 31,
   "metadata": {},
   "outputs": [
    {
     "name": "stdout",
     "output_type": "stream",
     "text": [
      "0.575616255829\n"
     ]
    }
   ],
   "source": [
    "# Choose the type of classifier. \n",
    "tree_under = DecisionTreeClassifier(criterion=\"entropy\", max_depth=3)\n",
    "\n",
    "# Fit the best algorithm to the data. \n",
    "tree_under.fit(X_rus2, y_rus2)\n",
    "\n",
    "predictions = tree_under.predict(X_test2)\n",
    "print(accuracy_score(y_test2, predictions))"
   ]
  },
  {
   "cell_type": "markdown",
   "metadata": {},
   "source": [
    "Code to run a logistic regression on the SMOTE oversampled data using recursive feature elimination, which only keeps the most important variables in the model according to how many variables we want to consider in our model."
   ]
  },
  {
   "cell_type": "code",
   "execution_count": 32,
   "metadata": {},
   "outputs": [
    {
     "name": "stderr",
     "output_type": "stream",
     "text": [
      "/Users/sammoscowitz/anaconda3/lib/python3.6/site-packages/sklearn/linear_model/logistic.py:433: FutureWarning:\n",
      "\n",
      "Default solver will be changed to 'lbfgs' in 0.22. Specify a solver to silence this warning.\n",
      "\n",
      "/Users/sammoscowitz/anaconda3/lib/python3.6/site-packages/sklearn/linear_model/logistic.py:433: FutureWarning:\n",
      "\n",
      "Default solver will be changed to 'lbfgs' in 0.22. Specify a solver to silence this warning.\n",
      "\n",
      "/Users/sammoscowitz/anaconda3/lib/python3.6/site-packages/sklearn/linear_model/logistic.py:433: FutureWarning:\n",
      "\n",
      "Default solver will be changed to 'lbfgs' in 0.22. Specify a solver to silence this warning.\n",
      "\n",
      "/Users/sammoscowitz/anaconda3/lib/python3.6/site-packages/sklearn/linear_model/logistic.py:433: FutureWarning:\n",
      "\n",
      "Default solver will be changed to 'lbfgs' in 0.22. Specify a solver to silence this warning.\n",
      "\n",
      "/Users/sammoscowitz/anaconda3/lib/python3.6/site-packages/sklearn/linear_model/logistic.py:433: FutureWarning:\n",
      "\n",
      "Default solver will be changed to 'lbfgs' in 0.22. Specify a solver to silence this warning.\n",
      "\n",
      "/Users/sammoscowitz/anaconda3/lib/python3.6/site-packages/sklearn/linear_model/logistic.py:433: FutureWarning:\n",
      "\n",
      "Default solver will be changed to 'lbfgs' in 0.22. Specify a solver to silence this warning.\n",
      "\n",
      "/Users/sammoscowitz/anaconda3/lib/python3.6/site-packages/sklearn/linear_model/logistic.py:433: FutureWarning:\n",
      "\n",
      "Default solver will be changed to 'lbfgs' in 0.22. Specify a solver to silence this warning.\n",
      "\n",
      "/Users/sammoscowitz/anaconda3/lib/python3.6/site-packages/sklearn/linear_model/logistic.py:433: FutureWarning:\n",
      "\n",
      "Default solver will be changed to 'lbfgs' in 0.22. Specify a solver to silence this warning.\n",
      "\n",
      "/Users/sammoscowitz/anaconda3/lib/python3.6/site-packages/sklearn/linear_model/logistic.py:433: FutureWarning:\n",
      "\n",
      "Default solver will be changed to 'lbfgs' in 0.22. Specify a solver to silence this warning.\n",
      "\n",
      "/Users/sammoscowitz/anaconda3/lib/python3.6/site-packages/sklearn/linear_model/logistic.py:433: FutureWarning:\n",
      "\n",
      "Default solver will be changed to 'lbfgs' in 0.22. Specify a solver to silence this warning.\n",
      "\n",
      "/Users/sammoscowitz/anaconda3/lib/python3.6/site-packages/sklearn/linear_model/logistic.py:433: FutureWarning:\n",
      "\n",
      "Default solver will be changed to 'lbfgs' in 0.22. Specify a solver to silence this warning.\n",
      "\n",
      "/Users/sammoscowitz/anaconda3/lib/python3.6/site-packages/sklearn/linear_model/logistic.py:433: FutureWarning:\n",
      "\n",
      "Default solver will be changed to 'lbfgs' in 0.22. Specify a solver to silence this warning.\n",
      "\n",
      "/Users/sammoscowitz/anaconda3/lib/python3.6/site-packages/sklearn/linear_model/logistic.py:433: FutureWarning:\n",
      "\n",
      "Default solver will be changed to 'lbfgs' in 0.22. Specify a solver to silence this warning.\n",
      "\n",
      "/Users/sammoscowitz/anaconda3/lib/python3.6/site-packages/sklearn/linear_model/logistic.py:433: FutureWarning:\n",
      "\n",
      "Default solver will be changed to 'lbfgs' in 0.22. Specify a solver to silence this warning.\n",
      "\n",
      "/Users/sammoscowitz/anaconda3/lib/python3.6/site-packages/sklearn/linear_model/logistic.py:433: FutureWarning:\n",
      "\n",
      "Default solver will be changed to 'lbfgs' in 0.22. Specify a solver to silence this warning.\n",
      "\n",
      "/Users/sammoscowitz/anaconda3/lib/python3.6/site-packages/sklearn/linear_model/logistic.py:433: FutureWarning:\n",
      "\n",
      "Default solver will be changed to 'lbfgs' in 0.22. Specify a solver to silence this warning.\n",
      "\n",
      "/Users/sammoscowitz/anaconda3/lib/python3.6/site-packages/sklearn/linear_model/logistic.py:433: FutureWarning:\n",
      "\n",
      "Default solver will be changed to 'lbfgs' in 0.22. Specify a solver to silence this warning.\n",
      "\n",
      "/Users/sammoscowitz/anaconda3/lib/python3.6/site-packages/sklearn/linear_model/logistic.py:433: FutureWarning:\n",
      "\n",
      "Default solver will be changed to 'lbfgs' in 0.22. Specify a solver to silence this warning.\n",
      "\n",
      "/Users/sammoscowitz/anaconda3/lib/python3.6/site-packages/sklearn/linear_model/logistic.py:433: FutureWarning:\n",
      "\n",
      "Default solver will be changed to 'lbfgs' in 0.22. Specify a solver to silence this warning.\n",
      "\n",
      "/Users/sammoscowitz/anaconda3/lib/python3.6/site-packages/sklearn/linear_model/logistic.py:433: FutureWarning:\n",
      "\n",
      "Default solver will be changed to 'lbfgs' in 0.22. Specify a solver to silence this warning.\n",
      "\n",
      "/Users/sammoscowitz/anaconda3/lib/python3.6/site-packages/sklearn/linear_model/logistic.py:433: FutureWarning:\n",
      "\n",
      "Default solver will be changed to 'lbfgs' in 0.22. Specify a solver to silence this warning.\n",
      "\n",
      "/Users/sammoscowitz/anaconda3/lib/python3.6/site-packages/sklearn/linear_model/logistic.py:433: FutureWarning:\n",
      "\n",
      "Default solver will be changed to 'lbfgs' in 0.22. Specify a solver to silence this warning.\n",
      "\n",
      "/Users/sammoscowitz/anaconda3/lib/python3.6/site-packages/sklearn/linear_model/logistic.py:433: FutureWarning:\n",
      "\n",
      "Default solver will be changed to 'lbfgs' in 0.22. Specify a solver to silence this warning.\n",
      "\n",
      "/Users/sammoscowitz/anaconda3/lib/python3.6/site-packages/sklearn/linear_model/logistic.py:433: FutureWarning:\n",
      "\n",
      "Default solver will be changed to 'lbfgs' in 0.22. Specify a solver to silence this warning.\n",
      "\n",
      "/Users/sammoscowitz/anaconda3/lib/python3.6/site-packages/sklearn/linear_model/logistic.py:433: FutureWarning:\n",
      "\n",
      "Default solver will be changed to 'lbfgs' in 0.22. Specify a solver to silence this warning.\n",
      "\n",
      "/Users/sammoscowitz/anaconda3/lib/python3.6/site-packages/sklearn/linear_model/logistic.py:433: FutureWarning:\n",
      "\n",
      "Default solver will be changed to 'lbfgs' in 0.22. Specify a solver to silence this warning.\n",
      "\n",
      "/Users/sammoscowitz/anaconda3/lib/python3.6/site-packages/sklearn/linear_model/logistic.py:433: FutureWarning:\n",
      "\n",
      "Default solver will be changed to 'lbfgs' in 0.22. Specify a solver to silence this warning.\n",
      "\n",
      "/Users/sammoscowitz/anaconda3/lib/python3.6/site-packages/sklearn/linear_model/logistic.py:433: FutureWarning:\n",
      "\n",
      "Default solver will be changed to 'lbfgs' in 0.22. Specify a solver to silence this warning.\n",
      "\n",
      "/Users/sammoscowitz/anaconda3/lib/python3.6/site-packages/sklearn/linear_model/logistic.py:433: FutureWarning:\n",
      "\n",
      "Default solver will be changed to 'lbfgs' in 0.22. Specify a solver to silence this warning.\n",
      "\n",
      "/Users/sammoscowitz/anaconda3/lib/python3.6/site-packages/sklearn/linear_model/logistic.py:433: FutureWarning:\n",
      "\n",
      "Default solver will be changed to 'lbfgs' in 0.22. Specify a solver to silence this warning.\n",
      "\n",
      "/Users/sammoscowitz/anaconda3/lib/python3.6/site-packages/sklearn/linear_model/logistic.py:433: FutureWarning:\n",
      "\n",
      "Default solver will be changed to 'lbfgs' in 0.22. Specify a solver to silence this warning.\n",
      "\n",
      "/Users/sammoscowitz/anaconda3/lib/python3.6/site-packages/sklearn/linear_model/logistic.py:433: FutureWarning:\n",
      "\n",
      "Default solver will be changed to 'lbfgs' in 0.22. Specify a solver to silence this warning.\n",
      "\n",
      "/Users/sammoscowitz/anaconda3/lib/python3.6/site-packages/sklearn/linear_model/logistic.py:433: FutureWarning:\n",
      "\n",
      "Default solver will be changed to 'lbfgs' in 0.22. Specify a solver to silence this warning.\n",
      "\n",
      "/Users/sammoscowitz/anaconda3/lib/python3.6/site-packages/sklearn/linear_model/logistic.py:433: FutureWarning:\n",
      "\n",
      "Default solver will be changed to 'lbfgs' in 0.22. Specify a solver to silence this warning.\n",
      "\n",
      "/Users/sammoscowitz/anaconda3/lib/python3.6/site-packages/sklearn/linear_model/logistic.py:433: FutureWarning:\n",
      "\n",
      "Default solver will be changed to 'lbfgs' in 0.22. Specify a solver to silence this warning.\n",
      "\n",
      "/Users/sammoscowitz/anaconda3/lib/python3.6/site-packages/sklearn/linear_model/logistic.py:433: FutureWarning:\n",
      "\n",
      "Default solver will be changed to 'lbfgs' in 0.22. Specify a solver to silence this warning.\n",
      "\n",
      "/Users/sammoscowitz/anaconda3/lib/python3.6/site-packages/sklearn/linear_model/logistic.py:433: FutureWarning:\n",
      "\n",
      "Default solver will be changed to 'lbfgs' in 0.22. Specify a solver to silence this warning.\n",
      "\n",
      "/Users/sammoscowitz/anaconda3/lib/python3.6/site-packages/sklearn/linear_model/logistic.py:433: FutureWarning:\n",
      "\n",
      "Default solver will be changed to 'lbfgs' in 0.22. Specify a solver to silence this warning.\n",
      "\n",
      "/Users/sammoscowitz/anaconda3/lib/python3.6/site-packages/sklearn/linear_model/logistic.py:433: FutureWarning:\n",
      "\n",
      "Default solver will be changed to 'lbfgs' in 0.22. Specify a solver to silence this warning.\n",
      "\n",
      "/Users/sammoscowitz/anaconda3/lib/python3.6/site-packages/sklearn/linear_model/logistic.py:433: FutureWarning:\n",
      "\n",
      "Default solver will be changed to 'lbfgs' in 0.22. Specify a solver to silence this warning.\n",
      "\n",
      "/Users/sammoscowitz/anaconda3/lib/python3.6/site-packages/sklearn/linear_model/logistic.py:433: FutureWarning:\n",
      "\n",
      "Default solver will be changed to 'lbfgs' in 0.22. Specify a solver to silence this warning.\n",
      "\n",
      "/Users/sammoscowitz/anaconda3/lib/python3.6/site-packages/sklearn/linear_model/logistic.py:433: FutureWarning:\n",
      "\n",
      "Default solver will be changed to 'lbfgs' in 0.22. Specify a solver to silence this warning.\n",
      "\n",
      "/Users/sammoscowitz/anaconda3/lib/python3.6/site-packages/sklearn/linear_model/logistic.py:433: FutureWarning:\n",
      "\n",
      "Default solver will be changed to 'lbfgs' in 0.22. Specify a solver to silence this warning.\n",
      "\n",
      "/Users/sammoscowitz/anaconda3/lib/python3.6/site-packages/sklearn/linear_model/logistic.py:433: FutureWarning:\n",
      "\n",
      "Default solver will be changed to 'lbfgs' in 0.22. Specify a solver to silence this warning.\n",
      "\n",
      "/Users/sammoscowitz/anaconda3/lib/python3.6/site-packages/sklearn/linear_model/logistic.py:433: FutureWarning:\n",
      "\n",
      "Default solver will be changed to 'lbfgs' in 0.22. Specify a solver to silence this warning.\n",
      "\n"
     ]
    },
    {
     "name": "stderr",
     "output_type": "stream",
     "text": [
      "/Users/sammoscowitz/anaconda3/lib/python3.6/site-packages/sklearn/linear_model/logistic.py:433: FutureWarning:\n",
      "\n",
      "Default solver will be changed to 'lbfgs' in 0.22. Specify a solver to silence this warning.\n",
      "\n"
     ]
    }
   ],
   "source": [
    "from sklearn.feature_selection import RFE\n",
    "from sklearn.linear_model import LogisticRegression\n",
    "from sklearn.metrics import accuracy_score\n",
    "\n",
    "# Choose the type of classifier. \n",
    "reg = LogisticRegression()\n",
    "\n",
    "rfe = RFE(reg, 15)\n",
    "# Fit the best algorithm to the data. \n",
    "rfe=rfe.fit(X_sm, y_sm)"
   ]
  },
  {
   "cell_type": "markdown",
   "metadata": {},
   "source": [
    "Code to display which features were chosen by the RFE model"
   ]
  },
  {
   "cell_type": "code",
   "execution_count": 33,
   "metadata": {},
   "outputs": [
    {
     "data": {
      "text/plain": [
       "array(['Gender', 'Edu_1. High School or Below', 'Edu_2. College',\n",
       "       'Edu_3. Bachelor', 'Employment_Employed', 'Location_Rural',\n",
       "       'Marital_Single', 'Cause_Collision', 'Cause_Hail', 'Cause_Other',\n",
       "       'Cause_Scratch/Dent', 'Class_Four-Door Car', 'Class_SUV',\n",
       "       'Class_Sports Car', 'Class_Two-Door Car'], dtype=object)"
      ]
     },
     "execution_count": 33,
     "metadata": {},
     "output_type": "execute_result"
    }
   ],
   "source": [
    "features_bool = np.array(rfe.support_)\n",
    "features = np.array(X_train.columns)\n",
    "result = features[features_bool]\n",
    "result"
   ]
  },
  {
   "cell_type": "markdown",
   "metadata": {},
   "source": [
    "Code to display the coefficients of the RFE model"
   ]
  },
  {
   "cell_type": "code",
   "execution_count": 34,
   "metadata": {},
   "outputs": [
    {
     "name": "stdout",
     "output_type": "stream",
     "text": [
      "[[-1.96890475 -0.84065541 -0.62358942 -0.67168215 -0.61458975 -0.39008996\n",
      "   0.60126568  1.43201104  1.52416328  0.90090572 -3.86524153  1.25440802\n",
      "  -2.99886226 -3.17191056  1.24906691]]\n",
      "0.695536309127\n"
     ]
    }
   ],
   "source": [
    "print(rfe.estimator_.coef_)\n",
    "predictions = rfe.predict(X_test)\n",
    "print(accuracy_score(y_test, predictions))"
   ]
  },
  {
   "cell_type": "markdown",
   "metadata": {},
   "source": [
    "Code to run an RFE logistic regression on the undersampled data"
   ]
  },
  {
   "cell_type": "code",
   "execution_count": 35,
   "metadata": {},
   "outputs": [
    {
     "name": "stderr",
     "output_type": "stream",
     "text": [
      "/Users/sammoscowitz/anaconda3/lib/python3.6/site-packages/sklearn/linear_model/logistic.py:433: FutureWarning:\n",
      "\n",
      "Default solver will be changed to 'lbfgs' in 0.22. Specify a solver to silence this warning.\n",
      "\n",
      "/Users/sammoscowitz/anaconda3/lib/python3.6/site-packages/sklearn/linear_model/logistic.py:433: FutureWarning:\n",
      "\n",
      "Default solver will be changed to 'lbfgs' in 0.22. Specify a solver to silence this warning.\n",
      "\n",
      "/Users/sammoscowitz/anaconda3/lib/python3.6/site-packages/sklearn/linear_model/logistic.py:433: FutureWarning:\n",
      "\n",
      "Default solver will be changed to 'lbfgs' in 0.22. Specify a solver to silence this warning.\n",
      "\n",
      "/Users/sammoscowitz/anaconda3/lib/python3.6/site-packages/sklearn/linear_model/logistic.py:433: FutureWarning:\n",
      "\n",
      "Default solver will be changed to 'lbfgs' in 0.22. Specify a solver to silence this warning.\n",
      "\n",
      "/Users/sammoscowitz/anaconda3/lib/python3.6/site-packages/sklearn/linear_model/logistic.py:433: FutureWarning:\n",
      "\n",
      "Default solver will be changed to 'lbfgs' in 0.22. Specify a solver to silence this warning.\n",
      "\n",
      "/Users/sammoscowitz/anaconda3/lib/python3.6/site-packages/sklearn/linear_model/logistic.py:433: FutureWarning:\n",
      "\n",
      "Default solver will be changed to 'lbfgs' in 0.22. Specify a solver to silence this warning.\n",
      "\n",
      "/Users/sammoscowitz/anaconda3/lib/python3.6/site-packages/sklearn/linear_model/logistic.py:433: FutureWarning:\n",
      "\n",
      "Default solver will be changed to 'lbfgs' in 0.22. Specify a solver to silence this warning.\n",
      "\n",
      "/Users/sammoscowitz/anaconda3/lib/python3.6/site-packages/sklearn/linear_model/logistic.py:433: FutureWarning:\n",
      "\n",
      "Default solver will be changed to 'lbfgs' in 0.22. Specify a solver to silence this warning.\n",
      "\n",
      "/Users/sammoscowitz/anaconda3/lib/python3.6/site-packages/sklearn/linear_model/logistic.py:433: FutureWarning:\n",
      "\n",
      "Default solver will be changed to 'lbfgs' in 0.22. Specify a solver to silence this warning.\n",
      "\n",
      "/Users/sammoscowitz/anaconda3/lib/python3.6/site-packages/sklearn/linear_model/logistic.py:433: FutureWarning:\n",
      "\n",
      "Default solver will be changed to 'lbfgs' in 0.22. Specify a solver to silence this warning.\n",
      "\n",
      "/Users/sammoscowitz/anaconda3/lib/python3.6/site-packages/sklearn/linear_model/logistic.py:433: FutureWarning:\n",
      "\n",
      "Default solver will be changed to 'lbfgs' in 0.22. Specify a solver to silence this warning.\n",
      "\n",
      "/Users/sammoscowitz/anaconda3/lib/python3.6/site-packages/sklearn/linear_model/logistic.py:433: FutureWarning:\n",
      "\n",
      "Default solver will be changed to 'lbfgs' in 0.22. Specify a solver to silence this warning.\n",
      "\n",
      "/Users/sammoscowitz/anaconda3/lib/python3.6/site-packages/sklearn/linear_model/logistic.py:433: FutureWarning:\n",
      "\n",
      "Default solver will be changed to 'lbfgs' in 0.22. Specify a solver to silence this warning.\n",
      "\n",
      "/Users/sammoscowitz/anaconda3/lib/python3.6/site-packages/sklearn/linear_model/logistic.py:433: FutureWarning:\n",
      "\n",
      "Default solver will be changed to 'lbfgs' in 0.22. Specify a solver to silence this warning.\n",
      "\n",
      "/Users/sammoscowitz/anaconda3/lib/python3.6/site-packages/sklearn/linear_model/logistic.py:433: FutureWarning:\n",
      "\n",
      "Default solver will be changed to 'lbfgs' in 0.22. Specify a solver to silence this warning.\n",
      "\n",
      "/Users/sammoscowitz/anaconda3/lib/python3.6/site-packages/sklearn/linear_model/logistic.py:433: FutureWarning:\n",
      "\n",
      "Default solver will be changed to 'lbfgs' in 0.22. Specify a solver to silence this warning.\n",
      "\n",
      "/Users/sammoscowitz/anaconda3/lib/python3.6/site-packages/sklearn/linear_model/logistic.py:433: FutureWarning:\n",
      "\n",
      "Default solver will be changed to 'lbfgs' in 0.22. Specify a solver to silence this warning.\n",
      "\n",
      "/Users/sammoscowitz/anaconda3/lib/python3.6/site-packages/sklearn/linear_model/logistic.py:433: FutureWarning:\n",
      "\n",
      "Default solver will be changed to 'lbfgs' in 0.22. Specify a solver to silence this warning.\n",
      "\n",
      "/Users/sammoscowitz/anaconda3/lib/python3.6/site-packages/sklearn/linear_model/logistic.py:433: FutureWarning:\n",
      "\n",
      "Default solver will be changed to 'lbfgs' in 0.22. Specify a solver to silence this warning.\n",
      "\n",
      "/Users/sammoscowitz/anaconda3/lib/python3.6/site-packages/sklearn/linear_model/logistic.py:433: FutureWarning:\n",
      "\n",
      "Default solver will be changed to 'lbfgs' in 0.22. Specify a solver to silence this warning.\n",
      "\n",
      "/Users/sammoscowitz/anaconda3/lib/python3.6/site-packages/sklearn/linear_model/logistic.py:433: FutureWarning:\n",
      "\n",
      "Default solver will be changed to 'lbfgs' in 0.22. Specify a solver to silence this warning.\n",
      "\n",
      "/Users/sammoscowitz/anaconda3/lib/python3.6/site-packages/sklearn/linear_model/logistic.py:433: FutureWarning:\n",
      "\n",
      "Default solver will be changed to 'lbfgs' in 0.22. Specify a solver to silence this warning.\n",
      "\n",
      "/Users/sammoscowitz/anaconda3/lib/python3.6/site-packages/sklearn/linear_model/logistic.py:433: FutureWarning:\n",
      "\n",
      "Default solver will be changed to 'lbfgs' in 0.22. Specify a solver to silence this warning.\n",
      "\n",
      "/Users/sammoscowitz/anaconda3/lib/python3.6/site-packages/sklearn/linear_model/logistic.py:433: FutureWarning:\n",
      "\n",
      "Default solver will be changed to 'lbfgs' in 0.22. Specify a solver to silence this warning.\n",
      "\n",
      "/Users/sammoscowitz/anaconda3/lib/python3.6/site-packages/sklearn/linear_model/logistic.py:433: FutureWarning:\n",
      "\n",
      "Default solver will be changed to 'lbfgs' in 0.22. Specify a solver to silence this warning.\n",
      "\n",
      "/Users/sammoscowitz/anaconda3/lib/python3.6/site-packages/sklearn/linear_model/logistic.py:433: FutureWarning:\n",
      "\n",
      "Default solver will be changed to 'lbfgs' in 0.22. Specify a solver to silence this warning.\n",
      "\n",
      "/Users/sammoscowitz/anaconda3/lib/python3.6/site-packages/sklearn/linear_model/logistic.py:433: FutureWarning:\n",
      "\n",
      "Default solver will be changed to 'lbfgs' in 0.22. Specify a solver to silence this warning.\n",
      "\n",
      "/Users/sammoscowitz/anaconda3/lib/python3.6/site-packages/sklearn/linear_model/logistic.py:433: FutureWarning:\n",
      "\n",
      "Default solver will be changed to 'lbfgs' in 0.22. Specify a solver to silence this warning.\n",
      "\n",
      "/Users/sammoscowitz/anaconda3/lib/python3.6/site-packages/sklearn/linear_model/logistic.py:433: FutureWarning:\n",
      "\n",
      "Default solver will be changed to 'lbfgs' in 0.22. Specify a solver to silence this warning.\n",
      "\n",
      "/Users/sammoscowitz/anaconda3/lib/python3.6/site-packages/sklearn/linear_model/logistic.py:433: FutureWarning:\n",
      "\n",
      "Default solver will be changed to 'lbfgs' in 0.22. Specify a solver to silence this warning.\n",
      "\n",
      "/Users/sammoscowitz/anaconda3/lib/python3.6/site-packages/sklearn/linear_model/logistic.py:433: FutureWarning:\n",
      "\n",
      "Default solver will be changed to 'lbfgs' in 0.22. Specify a solver to silence this warning.\n",
      "\n",
      "/Users/sammoscowitz/anaconda3/lib/python3.6/site-packages/sklearn/linear_model/logistic.py:433: FutureWarning:\n",
      "\n",
      "Default solver will be changed to 'lbfgs' in 0.22. Specify a solver to silence this warning.\n",
      "\n",
      "/Users/sammoscowitz/anaconda3/lib/python3.6/site-packages/sklearn/linear_model/logistic.py:433: FutureWarning:\n",
      "\n",
      "Default solver will be changed to 'lbfgs' in 0.22. Specify a solver to silence this warning.\n",
      "\n",
      "/Users/sammoscowitz/anaconda3/lib/python3.6/site-packages/sklearn/linear_model/logistic.py:433: FutureWarning:\n",
      "\n",
      "Default solver will be changed to 'lbfgs' in 0.22. Specify a solver to silence this warning.\n",
      "\n",
      "/Users/sammoscowitz/anaconda3/lib/python3.6/site-packages/sklearn/linear_model/logistic.py:433: FutureWarning:\n",
      "\n",
      "Default solver will be changed to 'lbfgs' in 0.22. Specify a solver to silence this warning.\n",
      "\n",
      "/Users/sammoscowitz/anaconda3/lib/python3.6/site-packages/sklearn/linear_model/logistic.py:433: FutureWarning:\n",
      "\n",
      "Default solver will be changed to 'lbfgs' in 0.22. Specify a solver to silence this warning.\n",
      "\n",
      "/Users/sammoscowitz/anaconda3/lib/python3.6/site-packages/sklearn/linear_model/logistic.py:433: FutureWarning:\n",
      "\n",
      "Default solver will be changed to 'lbfgs' in 0.22. Specify a solver to silence this warning.\n",
      "\n",
      "/Users/sammoscowitz/anaconda3/lib/python3.6/site-packages/sklearn/linear_model/logistic.py:433: FutureWarning:\n",
      "\n",
      "Default solver will be changed to 'lbfgs' in 0.22. Specify a solver to silence this warning.\n",
      "\n",
      "/Users/sammoscowitz/anaconda3/lib/python3.6/site-packages/sklearn/linear_model/logistic.py:433: FutureWarning:\n",
      "\n",
      "Default solver will be changed to 'lbfgs' in 0.22. Specify a solver to silence this warning.\n",
      "\n",
      "/Users/sammoscowitz/anaconda3/lib/python3.6/site-packages/sklearn/linear_model/logistic.py:433: FutureWarning:\n",
      "\n",
      "Default solver will be changed to 'lbfgs' in 0.22. Specify a solver to silence this warning.\n",
      "\n",
      "/Users/sammoscowitz/anaconda3/lib/python3.6/site-packages/sklearn/linear_model/logistic.py:433: FutureWarning:\n",
      "\n",
      "Default solver will be changed to 'lbfgs' in 0.22. Specify a solver to silence this warning.\n",
      "\n",
      "/Users/sammoscowitz/anaconda3/lib/python3.6/site-packages/sklearn/linear_model/logistic.py:433: FutureWarning:\n",
      "\n",
      "Default solver will be changed to 'lbfgs' in 0.22. Specify a solver to silence this warning.\n",
      "\n",
      "/Users/sammoscowitz/anaconda3/lib/python3.6/site-packages/sklearn/linear_model/logistic.py:433: FutureWarning:\n",
      "\n",
      "Default solver will be changed to 'lbfgs' in 0.22. Specify a solver to silence this warning.\n",
      "\n",
      "/Users/sammoscowitz/anaconda3/lib/python3.6/site-packages/sklearn/linear_model/logistic.py:433: FutureWarning:\n",
      "\n",
      "Default solver will be changed to 'lbfgs' in 0.22. Specify a solver to silence this warning.\n",
      "\n",
      "/Users/sammoscowitz/anaconda3/lib/python3.6/site-packages/sklearn/linear_model/logistic.py:433: FutureWarning:\n",
      "\n",
      "Default solver will be changed to 'lbfgs' in 0.22. Specify a solver to silence this warning.\n",
      "\n",
      "/Users/sammoscowitz/anaconda3/lib/python3.6/site-packages/sklearn/linear_model/logistic.py:433: FutureWarning:\n",
      "\n",
      "Default solver will be changed to 'lbfgs' in 0.22. Specify a solver to silence this warning.\n",
      "\n"
     ]
    }
   ],
   "source": [
    "# Choose the type of classifier. \n",
    "reg = LogisticRegression()\n",
    "\n",
    "rfe_under = RFE(reg, 15)\n",
    "# Fit the best algorithm to the data. \n",
    "rfe=rfe_under.fit(X_rus, y_rus)"
   ]
  },
  {
   "cell_type": "markdown",
   "metadata": {},
   "source": [
    "Code to implement a random forest model on the SMOTE oversampled data"
   ]
  },
  {
   "cell_type": "code",
   "execution_count": 36,
   "metadata": {},
   "outputs": [
    {
     "name": "stdout",
     "output_type": "stream",
     "text": [
      "0.798800799467\n"
     ]
    }
   ],
   "source": [
    "from sklearn.ensemble import RandomForestClassifier\n",
    "from sklearn.metrics import accuracy_score\n",
    "\n",
    "# Choose the type of classifier. \n",
    "forest = RandomForestClassifier(n_estimators=15, criterion=\"entropy\", max_depth=3, min_samples_leaf=10, random_state=150)\n",
    "\n",
    "# Fit the best algorithm to the data. \n",
    "forest.fit(X_sm2, y_sm2)\n",
    "\n",
    "predictions = forest.predict(X_test2)\n",
    "print(accuracy_score(y_test2, predictions))"
   ]
  },
  {
   "cell_type": "markdown",
   "metadata": {},
   "source": [
    "Code to implement a random forest on the undersampled data"
   ]
  },
  {
   "cell_type": "code",
   "execution_count": 37,
   "metadata": {},
   "outputs": [
    {
     "name": "stdout",
     "output_type": "stream",
     "text": [
      "0.672884743504\n"
     ]
    }
   ],
   "source": [
    "# Choose the type of classifier. \n",
    "forest_under = RandomForestClassifier(n_estimators=15, criterion=\"gini\", max_depth=3, min_samples_leaf=10, random_state=150)\n",
    "\n",
    "# Fit the best algorithm to the data. \n",
    "forest_under.fit(X_rus2, y_rus2)\n",
    "\n",
    "predictions = forest_under.predict(X_test2)\n",
    "print(accuracy_score(y_test2, predictions))"
   ]
  },
  {
   "cell_type": "markdown",
   "metadata": {},
   "source": [
    "Code to implement a neural network on the SMOTE oversampled data"
   ]
  },
  {
   "cell_type": "code",
   "execution_count": 38,
   "metadata": {},
   "outputs": [
    {
     "data": {
      "text/plain": [
       "StandardScaler(copy=True, with_mean=True, with_std=True)"
      ]
     },
     "execution_count": 38,
     "metadata": {},
     "output_type": "execute_result"
    }
   ],
   "source": [
    "# Data must be standardized before running a neural network\n",
    "from sklearn.preprocessing import StandardScaler\n",
    "scaler = StandardScaler()\n",
    "# Fit only to the training data\n",
    "scaler.fit(X_sm)"
   ]
  },
  {
   "cell_type": "code",
   "execution_count": 39,
   "metadata": {},
   "outputs": [
    {
     "name": "stderr",
     "output_type": "stream",
     "text": [
      "/Users/sammoscowitz/anaconda3/lib/python3.6/site-packages/ipykernel_launcher.py:3: DataConversionWarning:\n",
      "\n",
      "Data with input dtype uint8, int64, float64 were all converted to float64 by StandardScaler.\n",
      "\n"
     ]
    }
   ],
   "source": [
    "# The transformations are applied to the oversampled data:\n",
    "X_sm = scaler.transform(X_sm)\n",
    "X_test = scaler.transform(X_test)"
   ]
  },
  {
   "cell_type": "code",
   "execution_count": 40,
   "metadata": {
    "collapsed": true
   },
   "outputs": [],
   "source": [
    "from sklearn.neural_network import MLPClassifier\n",
    "\n",
    "mlp = MLPClassifier(hidden_layer_sizes=(60,60,60), activation= 'identity')\n",
    "\n",
    "mlp.fit(X_sm,y_sm)\n",
    "\n",
    "predictions = mlp.predict(X_test)\n"
   ]
  },
  {
   "cell_type": "markdown",
   "metadata": {},
   "source": [
    "Code to display the confusion matrix and evaluation metrics for a neural network"
   ]
  },
  {
   "cell_type": "code",
   "execution_count": 41,
   "metadata": {},
   "outputs": [
    {
     "name": "stdout",
     "output_type": "stream",
     "text": [
      "[[1007  395]\n",
      " [  29   70]]\n",
      "              precision    recall  f1-score   support\n",
      "\n",
      "           0       0.97      0.72      0.83      1402\n",
      "           1       0.15      0.71      0.25        99\n",
      "\n",
      "   micro avg       0.72      0.72      0.72      1501\n",
      "   macro avg       0.56      0.71      0.54      1501\n",
      "weighted avg       0.92      0.72      0.79      1501\n",
      "\n"
     ]
    }
   ],
   "source": [
    "from sklearn.metrics import classification_report,confusion_matrix\n",
    "print(confusion_matrix(y_test,predictions))\n",
    "\n",
    "\n",
    "print(classification_report(y_test,predictions))\n"
   ]
  },
  {
   "cell_type": "markdown",
   "metadata": {},
   "source": [
    "Code to run a neural network on the undersampled data"
   ]
  },
  {
   "cell_type": "code",
   "execution_count": 42,
   "metadata": {
    "collapsed": true
   },
   "outputs": [],
   "source": [
    "# The transformations are applied to the undersampled data:\n",
    "X_rus = scaler.transform(X_rus)\n",
    "X_test = scaler.transform(X_test)"
   ]
  },
  {
   "cell_type": "code",
   "execution_count": 43,
   "metadata": {
    "collapsed": true
   },
   "outputs": [],
   "source": [
    "mlp2 = MLPClassifier(hidden_layer_sizes=(60,60,60), activation= 'identity')\n",
    "\n",
    "mlp2.fit(X_rus,y_rus)\n",
    "\n",
    "predictions = mlp2.predict(X_test)\n"
   ]
  },
  {
   "cell_type": "code",
   "execution_count": 44,
   "metadata": {},
   "outputs": [
    {
     "name": "stdout",
     "output_type": "stream",
     "text": [
      "[[951 451]\n",
      " [ 33  66]]\n",
      "              precision    recall  f1-score   support\n",
      "\n",
      "           0       0.97      0.68      0.80      1402\n",
      "           1       0.13      0.67      0.21        99\n",
      "\n",
      "   micro avg       0.68      0.68      0.68      1501\n",
      "   macro avg       0.55      0.67      0.51      1501\n",
      "weighted avg       0.91      0.68      0.76      1501\n",
      "\n"
     ]
    }
   ],
   "source": [
    "print(confusion_matrix(y_test,predictions))\n",
    "\n",
    "print(classification_report(y_test,predictions))\n"
   ]
  },
  {
   "cell_type": "markdown",
   "metadata": {},
   "source": [
    "Code to run all of our models that were run on the SMOTE oversampled data against the true testing dataset to see which performs best"
   ]
  },
  {
   "cell_type": "code",
   "execution_count": 45,
   "metadata": {},
   "outputs": [
    {
     "name": "stdout",
     "output_type": "stream",
     "text": [
      "Decision Tree\n",
      "Accuracy Score: 0.698103792415\n",
      "\n",
      "Confusion Matrix:\n",
      " [[2674  756]\n",
      " [ 454  124]]\n",
      "\n",
      "Classification Report:\n",
      "               precision    recall  f1-score   support\n",
      "\n",
      "           0       0.85      0.78      0.82      3430\n",
      "           1       0.14      0.21      0.17       578\n",
      "\n",
      "   micro avg       0.70      0.70      0.70      4008\n",
      "   macro avg       0.50      0.50      0.49      4008\n",
      "weighted avg       0.75      0.70      0.72      4008\n",
      "\n",
      "\n",
      "Random Forest\n",
      "Accuracy Score: 0.781437125749\n",
      "\n",
      "Confusion Matrix:\n",
      " [[3067  363]\n",
      " [ 513   65]]\n",
      "\n",
      "Classification Report:\n",
      "               precision    recall  f1-score   support\n",
      "\n",
      "           0       0.86      0.89      0.88      3430\n",
      "           1       0.15      0.11      0.13       578\n",
      "\n",
      "   micro avg       0.78      0.78      0.78      4008\n",
      "   macro avg       0.50      0.50      0.50      4008\n",
      "weighted avg       0.76      0.78      0.77      4008\n",
      "\n",
      "\n",
      "Logistic Regression\n",
      "Accuracy Score: 0.589570858283\n",
      "\n",
      "Confusion Matrix:\n",
      " [[2172 1258]\n",
      " [ 387  191]]\n",
      "\n",
      "Classification Report:\n",
      "               precision    recall  f1-score   support\n",
      "\n",
      "           0       0.85      0.63      0.73      3430\n",
      "           1       0.13      0.33      0.19       578\n",
      "\n",
      "   micro avg       0.59      0.59      0.59      4008\n",
      "   macro avg       0.49      0.48      0.46      4008\n",
      "weighted avg       0.75      0.59      0.65      4008\n",
      "\n",
      "\n",
      "Neural Network\n",
      "Accuracy Score: 0.805638722555\n",
      "\n",
      "Confusion Matrix:\n",
      " [[3193  237]\n",
      " [ 542   36]]\n",
      "\n",
      "Classification Report:\n",
      "               precision    recall  f1-score   support\n",
      "\n",
      "           0       0.85      0.93      0.89      3430\n",
      "           1       0.13      0.06      0.08       578\n",
      "\n",
      "   micro avg       0.81      0.81      0.81      4008\n",
      "   macro avg       0.49      0.50      0.49      4008\n",
      "weighted avg       0.75      0.81      0.77      4008\n",
      "\n"
     ]
    }
   ],
   "source": [
    "print(\"Decision Tree\")\n",
    "predictions_tree = tree.predict(fraud_test_encoded.drop(['Claimant__Number','Fraudulent_Claim'], axis=1))\n",
    "print(\"Accuracy Score:\",accuracy_score(fraud_test_encoded.Fraudulent_Claim, predictions_tree))\n",
    "print(\"\\nConfusion Matrix:\\n\",confusion_matrix(fraud_test_dummies.Fraudulent_Claim,predictions_tree))\n",
    "print(\"\\nClassification Report:\\n\",classification_report(fraud_test_dummies.Fraudulent_Claim,predictions_tree))\n",
    "\n",
    "print(\"\\nRandom Forest\")\n",
    "predictions_forest = forest.predict(fraud_test_encoded.drop(['Claimant__Number','Fraudulent_Claim'], axis=1))\n",
    "print(\"Accuracy Score:\",accuracy_score(fraud_test_encoded.Fraudulent_Claim, predictions_forest))\n",
    "print(\"\\nConfusion Matrix:\\n\",confusion_matrix(fraud_test_dummies.Fraudulent_Claim,predictions_forest))\n",
    "print(\"\\nClassification Report:\\n\",classification_report(fraud_test_dummies.Fraudulent_Claim,predictions_forest))\n",
    "\n",
    "print(\"\\nLogistic Regression\")\n",
    "predictions_reg = rfe.predict(fraud_test_dummies.drop(['Claimant__Number','Fraudulent_Claim'], axis=1))\n",
    "print(\"Accuracy Score:\",accuracy_score(fraud_test_dummies.Fraudulent_Claim, predictions_reg))\n",
    "print(\"\\nConfusion Matrix:\\n\",confusion_matrix(fraud_test_dummies.Fraudulent_Claim,predictions_reg))\n",
    "print(\"\\nClassification Report:\\n\",classification_report(fraud_test_dummies.Fraudulent_Claim,predictions_reg))\n",
    "\n",
    "print(\"\\nNeural Network\")\n",
    "predictions_nno = mlp.predict(fraud_test_dummies.drop(['Claimant__Number','Fraudulent_Claim'], axis=1))\n",
    "print(\"Accuracy Score:\",accuracy_score(fraud_test_dummies.Fraudulent_Claim, predictions_nno))\n",
    "print(\"\\nConfusion Matrix:\\n\",confusion_matrix(fraud_test_dummies.Fraudulent_Claim,predictions_nno))\n",
    "print(\"\\nClassification Report:\\n\",classification_report(fraud_test_dummies.Fraudulent_Claim,predictions_nno))\n"
   ]
  },
  {
   "cell_type": "markdown",
   "metadata": {},
   "source": [
    "Code to run all of the models trainined on the undersampled data against the true testing data"
   ]
  },
  {
   "cell_type": "code",
   "execution_count": 46,
   "metadata": {
    "scrolled": true
   },
   "outputs": [
    {
     "name": "stdout",
     "output_type": "stream",
     "text": [
      "Decision Tree\n",
      "Accuracy Score: 0.491017964072\n",
      "\n",
      "Confusion Matrix:\n",
      " [[1690 1740]\n",
      " [ 300  278]]\n",
      "\n",
      "Classification Report:\n",
      "               precision    recall  f1-score   support\n",
      "\n",
      "           0       0.85      0.49      0.62      3430\n",
      "           1       0.14      0.48      0.21       578\n",
      "\n",
      "   micro avg       0.49      0.49      0.49      4008\n",
      "   macro avg       0.49      0.49      0.42      4008\n",
      "weighted avg       0.75      0.49      0.56      4008\n",
      "\n",
      "\n",
      "Random Forest\n",
      "Accuracy Score: 0.580089820359\n",
      "\n",
      "Confusion Matrix:\n",
      " [[2135 1295]\n",
      " [ 388  190]]\n",
      "\n",
      "Classification Report:\n",
      "               precision    recall  f1-score   support\n",
      "\n",
      "           0       0.85      0.62      0.72      3430\n",
      "           1       0.13      0.33      0.18       578\n",
      "\n",
      "   micro avg       0.58      0.58      0.58      4008\n",
      "   macro avg       0.49      0.48      0.45      4008\n",
      "weighted avg       0.74      0.58      0.64      4008\n",
      "\n",
      "\n",
      "Logistic Regression\n",
      "Accuracy Score: 0.589570858283\n",
      "\n",
      "Confusion Matrix:\n",
      " [[2172 1258]\n",
      " [ 387  191]]\n",
      "\n",
      "Classification Report:\n",
      "               precision    recall  f1-score   support\n",
      "\n",
      "           0       0.85      0.63      0.73      3430\n",
      "           1       0.13      0.33      0.19       578\n",
      "\n",
      "   micro avg       0.59      0.59      0.59      4008\n",
      "   macro avg       0.49      0.48      0.46      4008\n",
      "weighted avg       0.75      0.59      0.65      4008\n",
      "\n",
      "\n",
      "Neural Network\n",
      "Accuracy Score: 0.805638722555\n",
      "\n",
      "Confusion Matrix:\n",
      " [[3430    0]\n",
      " [ 578    0]]\n",
      "\n",
      "Classification Report:\n",
      "               precision    recall  f1-score   support\n",
      "\n",
      "           0       0.86      1.00      0.92      3430\n",
      "           1       0.00      0.00      0.00       578\n",
      "\n",
      "   micro avg       0.86      0.86      0.86      4008\n",
      "   macro avg       0.43      0.50      0.46      4008\n",
      "weighted avg       0.73      0.86      0.79      4008\n",
      "\n"
     ]
    },
    {
     "name": "stderr",
     "output_type": "stream",
     "text": [
      "/Users/sammoscowitz/anaconda3/lib/python3.6/site-packages/sklearn/metrics/classification.py:1143: UndefinedMetricWarning:\n",
      "\n",
      "Precision and F-score are ill-defined and being set to 0.0 in labels with no predicted samples.\n",
      "\n"
     ]
    }
   ],
   "source": [
    "print(\"Decision Tree\")\n",
    "predictions_tree_u = tree_under.predict(fraud_test_encoded.drop(['Claimant__Number','Fraudulent_Claim'], axis=1))\n",
    "print(\"Accuracy Score:\",accuracy_score(fraud_test_encoded.Fraudulent_Claim, predictions_tree_u))\n",
    "print(\"\\nConfusion Matrix:\\n\",confusion_matrix(fraud_test_dummies.Fraudulent_Claim,predictions_tree_u))\n",
    "print(\"\\nClassification Report:\\n\",classification_report(fraud_test_dummies.Fraudulent_Claim,predictions_tree_u))\n",
    "\n",
    "print(\"\\nRandom Forest\")\n",
    "predictions_forest_u = forest_under.predict(fraud_test_encoded.drop(['Claimant__Number','Fraudulent_Claim'], axis=1))\n",
    "print(\"Accuracy Score:\",accuracy_score(fraud_test_encoded.Fraudulent_Claim, predictions_forest_u))\n",
    "print(\"\\nConfusion Matrix:\\n\",confusion_matrix(fraud_test_dummies.Fraudulent_Claim,predictions_forest_u))\n",
    "print(\"\\nClassification Report:\\n\",classification_report(fraud_test_dummies.Fraudulent_Claim,predictions_forest_u))\n",
    "\n",
    "print(\"\\nLogistic Regression\")\n",
    "predictions_reg_u = rfe_under.predict(fraud_test_dummies.drop(['Claimant__Number','Fraudulent_Claim'], axis=1))\n",
    "print(\"Accuracy Score:\",accuracy_score(fraud_test_dummies.Fraudulent_Claim, predictions_reg_u))\n",
    "print(\"\\nConfusion Matrix:\\n\",confusion_matrix(fraud_test_dummies.Fraudulent_Claim,predictions_reg_u))\n",
    "print(\"\\nClassification Report:\\n\",classification_report(fraud_test_dummies.Fraudulent_Claim,predictions_reg_u))\n",
    "\n",
    "print(\"\\nNeural Network\")\n",
    "predictions_nnu = mlp2.predict(fraud_test_dummies.drop(['Claimant__Number','Fraudulent_Claim'], axis=1))\n",
    "print(\"Accuracy Score:\",accuracy_score(fraud_test_dummies.Fraudulent_Claim, predictions_nno))\n",
    "print(\"\\nConfusion Matrix:\\n\",confusion_matrix(fraud_test_dummies.Fraudulent_Claim,predictions_nnu))\n",
    "print(\"\\nClassification Report:\\n\",classification_report(fraud_test_dummies.Fraudulent_Claim,predictions_nnu))"
   ]
  },
  {
   "cell_type": "markdown",
   "metadata": {},
   "source": [
    "Code to visualize the decision tree and random forest"
   ]
  },
  {
   "cell_type": "markdown",
   "metadata": {},
   "source": [
    "from sklearn.tree import export_graphviz\n",
    "import graphviz\n",
    "\n",
    "import os\n",
    "os.environ[\"PATH\"] += os.pathsep + 'C:/Program Files (x86)/Graphviz2.38/bin/'\n",
    "\n",
    "# Export as dot file\n",
    "dot_data = export_graphviz(forest_under.estimators_[5], out_file='forest.dot', \n",
    "                rounded = True, proportion = False, \n",
    "                precision = 2, filled = True)\n",
    "\n",
    "# Convert to png using system command (requires Graphviz)\n",
    "from subprocess import call\n",
    "call(['dot', '-Tpng', 'forest.dot', '-o', 'forest.png', '-Gdpi=600'])\n",
    "\n",
    "# Display in jupyter notebook\n",
    "from IPython.display import Image\n",
    "Image(filename = 'forest.png')\n"
   ]
  },
  {
   "cell_type": "code",
   "execution_count": null,
   "metadata": {
    "collapsed": true
   },
   "outputs": [],
   "source": []
  }
 ],
 "metadata": {
  "kernelspec": {
   "display_name": "Python 3",
   "language": "python",
   "name": "python3"
  },
  "language_info": {
   "codemirror_mode": {
    "name": "ipython",
    "version": 3
   },
   "file_extension": ".py",
   "mimetype": "text/x-python",
   "name": "python",
   "nbconvert_exporter": "python",
   "pygments_lexer": "ipython3",
   "version": "3.6.6"
  }
 },
 "nbformat": 4,
 "nbformat_minor": 2
}
